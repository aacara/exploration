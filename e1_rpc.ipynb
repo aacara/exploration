{
 "cells": [
  {
   "cell_type": "markdown",
   "id": "regulated-disaster",
   "metadata": {},
   "source": [
    "## Exploration_e-1 가위바위보 분류기"
   ]
  },
  {
   "cell_type": "code",
   "execution_count": 78,
   "id": "intensive-terrorism",
   "metadata": {},
   "outputs": [],
   "source": [
    "import tensorflow as tf\n",
    "from tensorflow import keras\n",
    "import numpy as np\n",
    "from PIL import Image\n",
    "import os, glob"
   ]
  },
  {
   "cell_type": "code",
   "execution_count": 79,
   "id": "foster-ottawa",
   "metadata": {},
   "outputs": [
    {
     "name": "stdout",
     "output_type": "stream",
     "text": [
      "499  images to be resized.\n",
      "499  images resized.\n",
      "가위 이미지 resize 완료!\n",
      "500  images to be resized.\n",
      "500  images resized.\n",
      "바위 이미지 resize 완료!\n",
      "500  images to be resized.\n",
      "500  images resized.\n",
      "보 이미지 resize 완료!\n"
     ]
    }
   ],
   "source": [
    "def resize_images(img_path):\n",
    "    images=glob.glob(img_path + \"/*.jpg\")  \n",
    "\n",
    "    print(len(images), \" images to be resized.\")\n",
    "\n",
    "    # 파일마다 모두 28x28 사이즈로 바꾸어 저장합니다.\n",
    "    target_size=(28,28)\n",
    "    for img in images:\n",
    "        old_img=Image.open(img)\n",
    "        new_img=old_img.resize(target_size,Image.ANTIALIAS)\n",
    "        new_img.save(img, \"JPEG\")\n",
    "    \n",
    "    print(len(images), \" images resized.\")\n",
    "    \n",
    "# 가위 이미지가 저장된 디렉토리 아래의 모든 jpg 파일을 읽어들여서\n",
    "image_dir_path = os.getenv(\"HOME\") + \"/aiffel/rock_scissor_paper/scissor\"\n",
    "resize_images(image_dir_path)\n",
    "print(\"가위 이미지 resize 완료!\")\n",
    "\n",
    "# 바위 이미지가 저장된 디렉토리 아래의 모든 jpg 파일을 읽어들여서\n",
    "image_dir_path = os.getenv(\"HOME\") + \"/aiffel/rock_scissor_paper/rock\"\n",
    "resize_images(image_dir_path)\n",
    "print(\"바위 이미지 resize 완료!\")\n",
    "\n",
    "# 보 이미지가 저장된 디렉토리 아래의 모든 jpg 파일을 읽어들여서\n",
    "image_dir_path = os.getenv(\"HOME\") + \"/aiffel/rock_scissor_paper/paper\"\n",
    "resize_images(image_dir_path)\n",
    "print(\"보 이미지 resize 완료!\")"
   ]
  },
  {
   "cell_type": "code",
   "execution_count": 80,
   "id": "consolidated-contents",
   "metadata": {},
   "outputs": [
    {
     "name": "stdout",
     "output_type": "stream",
     "text": [
      "학습데이터(x_train)의 이미지 개수는 1499 입니다.\n",
      "x_train shape: (1500, 28, 28, 3)\n",
      "y_train shape: (1500,)\n",
      "라벨:  0\n"
     ]
    },
    {
     "data": {
      "image/png": "[encoded data removed]",
      "text/plain": [
       "<Figure size 432x288 with 1 Axes>"
      ]
     },
     "metadata": {
      "needs_background": "light"
     },
     "output_type": "display_data"
    }
   ],
   "source": [
    "def load_data(img_path, number_of_data=1500):  # 가위바위보 이미지 개수 총합에 주의하세요.\n",
    "    # 가위 : 0, 바위 : 1, 보 : 2\n",
    "    img_size=28\n",
    "    color=3\n",
    "    #이미지 데이터와 라벨(가위 : 0, 바위 : 1, 보 : 2) 데이터를 담을 행렬(matrix) 영역을 생성합니다.\n",
    "    imgs=np.zeros(number_of_data*img_size*img_size*color,dtype=np.int32).reshape(number_of_data,img_size,img_size,color)\n",
    "    labels=np.zeros(number_of_data,dtype=np.int32)\n",
    "\n",
    "    idx=0\n",
    "    for file in glob.iglob(img_path+'/scissor/*.jpg'): #for file in glob.iglob(img_path+'/scissor_s/*.jpg'): \n",
    "        img = np.array(Image.open(file),dtype=np.int32)\n",
    "        imgs[idx,:,:,:]=img    # 데이터 영역에 이미지 행렬을 복사\n",
    "        labels[idx]=0   # 가위 : 0\n",
    "        idx=idx+1\n",
    "\n",
    "    for file in glob.iglob(img_path+'/rock/*.jpg'): #for file in glob.iglob(img_path+'/rock_s/*.jpg'):\n",
    "        img = np.array(Image.open(file),dtype=np.int32)\n",
    "        imgs[idx,:,:,:]=img    # 데이터 영역에 이미지 행렬을 복사\n",
    "        labels[idx]=1   # 바위 : 1\n",
    "        idx=idx+1  \n",
    "    \n",
    "    for file in glob.iglob(img_path+'/paper/*.jpg'):#for file in glob.iglob(img_path+'/paper_s/*.jpg'):\n",
    "        img = np.array(Image.open(file),dtype=np.int32)\n",
    "        imgs[idx,:,:,:]=img    # 데이터 영역에 이미지 행렬을 복사\n",
    "        labels[idx]=2   # 보 : 2\n",
    "        idx=idx+1\n",
    "        \n",
    "    print(\"학습데이터(x_train)의 이미지 개수는\", idx,\"입니다.\")\n",
    "    return imgs, labels\n",
    "\n",
    "image_dir_path = os.getenv(\"HOME\") + \"/aiffel/rock_scissor_paper\"\n",
    "(x_train, y_train) = load_data(image_dir_path)\n",
    "x_train_norm = x_train/255.0\n",
    "\n",
    "\n",
    "print(\"x_train shape: {}\".format(x_train.shape))\n",
    "print(\"y_train shape: {}\".format(y_train.shape))\n",
    "\n",
    "import matplotlib.pyplot as plt\n",
    "plt.imshow(x_train[0])\n",
    "print('라벨: ', y_train[0])"
   ]
  },
  {
   "cell_type": "code",
   "execution_count": 81,
   "id": "sublime-marking",
   "metadata": {},
   "outputs": [
    {
     "name": "stdout",
     "output_type": "stream",
     "text": [
      "Model: \"sequential_11\"\n",
      "_________________________________________________________________\n",
      "Layer (type)                 Output Shape              Param #   \n",
      "=================================================================\n",
      "conv2d_22 (Conv2D)           (None, 26, 26, 16)        448       \n",
      "_________________________________________________________________\n",
      "max_pooling2d_22 (MaxPooling (None, 13, 13, 16)        0         \n",
      "_________________________________________________________________\n",
      "conv2d_23 (Conv2D)           (None, 11, 11, 32)        4640      \n",
      "_________________________________________________________________\n",
      "max_pooling2d_23 (MaxPooling (None, 5, 5, 32)          0         \n",
      "_________________________________________________________________\n",
      "flatten_11 (Flatten)         (None, 800)               0         \n",
      "_________________________________________________________________\n",
      "dense_22 (Dense)             (None, 16)                12816     \n",
      "_________________________________________________________________\n",
      "dense_23 (Dense)             (None, 10)                170       \n",
      "=================================================================\n",
      "Total params: 18,074\n",
      "Trainable params: 18,074\n",
      "Non-trainable params: 0\n",
      "_________________________________________________________________\n"
     ]
    }
   ],
   "source": [
    "n_channel_1=16\n",
    "n_channel_2=32\n",
    "n_dense=16\n",
    "n_train_epoch=50\n",
    "\n",
    "model=keras.models.Sequential()\n",
    "model.add(keras.layers.Conv2D(n_channel_1, (3,3), activation='relu', input_shape=(28,28,3)))\n",
    "model.add(keras.layers.MaxPool2D(2,2))\n",
    "model.add(keras.layers.Conv2D(n_channel_2, (3,3), activation='relu'))\n",
    "model.add(keras.layers.MaxPooling2D((2,2)))\n",
    "model.add(keras.layers.Flatten())\n",
    "model.add(keras.layers.Dense(n_dense, activation='relu'))\n",
    "model.add(keras.layers.Dense(10, activation='softmax'))\n",
    "\n",
    "model.summary()"
   ]
  },
  {
   "cell_type": "code",
   "execution_count": 82,
   "id": "rural-indian",
   "metadata": {},
   "outputs": [
    {
     "name": "stdout",
     "output_type": "stream",
     "text": [
      "Epoch 1/50\n",
      "47/47 [==============================] - 0s 3ms/step - loss: 1.5416 - accuracy: 0.3071\n",
      "Epoch 2/50\n",
      "47/47 [==============================] - 0s 3ms/step - loss: 1.1060 - accuracy: 0.3682\n",
      "Epoch 3/50\n",
      "47/47 [==============================] - 0s 3ms/step - loss: 1.0538 - accuracy: 0.4402\n",
      "Epoch 4/50\n",
      "47/47 [==============================] - 0s 3ms/step - loss: 1.0029 - accuracy: 0.4959\n",
      "Epoch 5/50\n",
      "47/47 [==============================] - 0s 3ms/step - loss: 0.9648 - accuracy: 0.4892\n",
      "Epoch 6/50\n",
      "47/47 [==============================] - 0s 3ms/step - loss: 0.9007 - accuracy: 0.6207\n",
      "Epoch 7/50\n",
      "47/47 [==============================] - 0s 3ms/step - loss: 0.7927 - accuracy: 0.6835\n",
      "Epoch 8/50\n",
      "47/47 [==============================] - 0s 3ms/step - loss: 0.6590 - accuracy: 0.7473\n",
      "Epoch 9/50\n",
      "47/47 [==============================] - 0s 3ms/step - loss: 0.5492 - accuracy: 0.7961\n",
      "Epoch 10/50\n",
      "47/47 [==============================] - 0s 3ms/step - loss: 0.4655 - accuracy: 0.8412\n",
      "Epoch 11/50\n",
      "47/47 [==============================] - 0s 3ms/step - loss: 0.4134 - accuracy: 0.8490\n",
      "Epoch 12/50\n",
      "47/47 [==============================] - 0s 3ms/step - loss: 0.3565 - accuracy: 0.8823\n",
      "Epoch 13/50\n",
      "47/47 [==============================] - 0s 3ms/step - loss: 0.3006 - accuracy: 0.9002\n",
      "Epoch 14/50\n",
      "47/47 [==============================] - 0s 3ms/step - loss: 0.3099 - accuracy: 0.8820\n",
      "Epoch 15/50\n",
      "47/47 [==============================] - 0s 3ms/step - loss: 0.2932 - accuracy: 0.8909\n",
      "Epoch 16/50\n",
      "47/47 [==============================] - 0s 3ms/step - loss: 0.3152 - accuracy: 0.8643\n",
      "Epoch 17/50\n",
      "47/47 [==============================] - 0s 3ms/step - loss: 0.2150 - accuracy: 0.9253\n",
      "Epoch 18/50\n",
      "47/47 [==============================] - 0s 3ms/step - loss: 0.2067 - accuracy: 0.9443\n",
      "Epoch 19/50\n",
      "47/47 [==============================] - 0s 3ms/step - loss: 0.1913 - accuracy: 0.9451\n",
      "Epoch 20/50\n",
      "47/47 [==============================] - 0s 3ms/step - loss: 0.1618 - accuracy: 0.9562\n",
      "Epoch 21/50\n",
      "47/47 [==============================] - 0s 3ms/step - loss: 0.1502 - accuracy: 0.9633\n",
      "Epoch 22/50\n",
      "47/47 [==============================] - 0s 3ms/step - loss: 0.1507 - accuracy: 0.9434\n",
      "Epoch 23/50\n",
      "47/47 [==============================] - 0s 3ms/step - loss: 0.1229 - accuracy: 0.9683\n",
      "Epoch 24/50\n",
      "47/47 [==============================] - 0s 3ms/step - loss: 0.1318 - accuracy: 0.9630\n",
      "Epoch 25/50\n",
      "47/47 [==============================] - 0s 3ms/step - loss: 0.1185 - accuracy: 0.9646\n",
      "Epoch 26/50\n",
      "47/47 [==============================] - 0s 3ms/step - loss: 0.0943 - accuracy: 0.9760\n",
      "Epoch 27/50\n",
      "47/47 [==============================] - 0s 3ms/step - loss: 0.1041 - accuracy: 0.9684\n",
      "Epoch 28/50\n",
      "47/47 [==============================] - 0s 3ms/step - loss: 0.1016 - accuracy: 0.9734\n",
      "Epoch 29/50\n",
      "47/47 [==============================] - 0s 3ms/step - loss: 0.0791 - accuracy: 0.9806\n",
      "Epoch 30/50\n",
      "47/47 [==============================] - 0s 3ms/step - loss: 0.0735 - accuracy: 0.9820\n",
      "Epoch 31/50\n",
      "47/47 [==============================] - 0s 3ms/step - loss: 0.0665 - accuracy: 0.9903\n",
      "Epoch 32/50\n",
      "47/47 [==============================] - 0s 3ms/step - loss: 0.0999 - accuracy: 0.9592\n",
      "Epoch 33/50\n",
      "47/47 [==============================] - 0s 3ms/step - loss: 0.0590 - accuracy: 0.9898\n",
      "Epoch 34/50\n",
      "47/47 [==============================] - 0s 3ms/step - loss: 0.0656 - accuracy: 0.9826\n",
      "Epoch 35/50\n",
      "47/47 [==============================] - 0s 3ms/step - loss: 0.0610 - accuracy: 0.9834\n",
      "Epoch 36/50\n",
      "47/47 [==============================] - 0s 3ms/step - loss: 0.0501 - accuracy: 0.9952\n",
      "Epoch 37/50\n",
      "47/47 [==============================] - 0s 3ms/step - loss: 0.0410 - accuracy: 0.9982\n",
      "Epoch 38/50\n",
      "47/47 [==============================] - 0s 3ms/step - loss: 0.0406 - accuracy: 0.9934\n",
      "Epoch 39/50\n",
      "47/47 [==============================] - 0s 3ms/step - loss: 0.0500 - accuracy: 0.9859\n",
      "Epoch 40/50\n",
      "47/47 [==============================] - 0s 3ms/step - loss: 0.0475 - accuracy: 0.9865\n",
      "Epoch 41/50\n",
      "47/47 [==============================] - 0s 3ms/step - loss: 0.0348 - accuracy: 0.9960\n",
      "Epoch 42/50\n",
      "47/47 [==============================] - 0s 3ms/step - loss: 0.0323 - accuracy: 0.9969\n",
      "Epoch 43/50\n",
      "47/47 [==============================] - 0s 3ms/step - loss: 0.0257 - accuracy: 0.9976\n",
      "Epoch 44/50\n",
      "47/47 [==============================] - 0s 3ms/step - loss: 0.0231 - accuracy: 0.9983\n",
      "Epoch 45/50\n",
      "47/47 [==============================] - 0s 3ms/step - loss: 0.0281 - accuracy: 0.9982\n",
      "Epoch 46/50\n",
      "47/47 [==============================] - 0s 3ms/step - loss: 0.0220 - accuracy: 0.9991\n",
      "Epoch 47/50\n",
      "47/47 [==============================] - 0s 3ms/step - loss: 0.0196 - accuracy: 0.9991\n",
      "Epoch 48/50\n",
      "47/47 [==============================] - 0s 3ms/step - loss: 0.0284 - accuracy: 0.9966\n",
      "Epoch 49/50\n",
      "47/47 [==============================] - 0s 3ms/step - loss: 0.0398 - accuracy: 0.9877\n",
      "Epoch 50/50\n",
      "47/47 [==============================] - 0s 3ms/step - loss: 0.0190 - accuracy: 0.9990\n"
     ]
    },
    {
     "data": {
      "text/plain": [
       "<tensorflow.python.keras.callbacks.History at 0x7f08402c6e90>"
      ]
     },
     "execution_count": 82,
     "metadata": {},
     "output_type": "execute_result"
    }
   ],
   "source": [
    "model.compile(optimizer='adam',\n",
    "             loss='sparse_categorical_crossentropy',\n",
    "             metrics=['accuracy'])\n",
    "\n",
    "# 모델 훈련\n",
    "model.fit(x_train_norm, y_train, epochs=n_train_epoch)"
   ]
  },
  {
   "cell_type": "code",
   "execution_count": 83,
   "id": "speaking-federal",
   "metadata": {},
   "outputs": [
    {
     "name": "stdout",
     "output_type": "stream",
     "text": [
      "500  images to be resized.\n",
      "500  images resized.\n",
      "가위 이미지 resize 완료!\n",
      "500  images to be resized.\n",
      "500  images resized.\n",
      "바위 이미지 resize 완료!\n",
      "500  images to be resized.\n",
      "500  images resized.\n",
      "보 이미지 resize 완료!\n",
      "트레이닝데이터(x_train)의 이미지 개수는 1500 입니다.\n"
     ]
    }
   ],
   "source": [
    "image_dir_path = os.getenv(\"HOME\") + \"/aiffel/test/scissor_s\"\n",
    "resize_images(image_dir_path)\n",
    "print(\"가위 이미지 resize 완료!\")\n",
    "\n",
    "image_dir_path = os.getenv(\"HOME\") + \"/aiffel/test/rock_s\"\n",
    "resize_images(image_dir_path)\n",
    "print(\"바위 이미지 resize 완료!\")\n",
    "\n",
    "image_dir_path = os.getenv(\"HOME\") + \"/aiffel/test/paper_s\"\n",
    "resize_images(image_dir_path)\n",
    "print(\"보 이미지 resize 완료!\")\n",
    "\n",
    "def load_data(img_path, number_of_data=1500):  # 가위바위보 이미지 개수 총합에 주의하세요.\n",
    "    # 가위 : 0, 바위 : 1, 보 : 2\n",
    "    img_size=28\n",
    "    color=3\n",
    "    #이미지 데이터와 라벨(가위 : 0, 바위 : 1, 보 : 2) 데이터를 담을 행렬(matrix) 영역을 생성합니다.\n",
    "    imgs=np.zeros(number_of_data*img_size*img_size*color,dtype=np.int32).reshape(number_of_data,img_size,img_size,color)\n",
    "    labels=np.zeros(number_of_data,dtype=np.int32)\n",
    "\n",
    "    idx=0\n",
    "    for file in glob.iglob(img_path+'/scissor_s/*.jpg'): \n",
    "        img = np.array(Image.open(file),dtype=np.int32)\n",
    "        imgs[idx,:,:,:]=img    # 데이터 영역에 이미지 행렬을 복사\n",
    "        labels[idx]=0   # 가위 : 0\n",
    "        idx=idx+1\n",
    "\n",
    "    for file in glob.iglob(img_path+'/rock_s/*.jpg'):\n",
    "        img = np.array(Image.open(file),dtype=np.int32)\n",
    "        imgs[idx,:,:,:]=img    # 데이터 영역에 이미지 행렬을 복사\n",
    "        labels[idx]=1   # 바위 : 1\n",
    "        idx=idx+1  \n",
    "    \n",
    "    for file in glob.iglob(img_path+'/paper_s/*.jpg'):\n",
    "        img = np.array(Image.open(file),dtype=np.int32)\n",
    "        imgs[idx,:,:,:]=img    # 데이터 영역에 이미지 행렬을 복사\n",
    "        labels[idx]=2   # 보 : 2\n",
    "        idx=idx+1\n",
    "        \n",
    "    print(\"트레이닝데이터(x_train)의 이미지 개수는\", idx,\"입니다.\")\n",
    "    return imgs, labels\n",
    "\n",
    "image_dir_path = os.getenv(\"HOME\") + \"/aiffel/test\"\n",
    "(x_test, y_test) = load_data(image_dir_path)\n",
    "x_test_norm = x_test/255.0"
   ]
  },
  {
   "cell_type": "markdown",
   "id": "split-spider",
   "metadata": {},
   "source": [
    "### 평가"
   ]
  },
  {
   "cell_type": "code",
   "execution_count": 84,
   "id": "placed-computer",
   "metadata": {},
   "outputs": [
    {
     "name": "stdout",
     "output_type": "stream",
     "text": [
      "47/47 - 0s - loss: 264.6937 - accuracy: 0.6827\n",
      "loss : 264.6936950683594\n",
      "accuracy : 0.6826666593551636\n"
     ]
    }
   ],
   "source": [
    "test_loss, test_accuracy = model.evaluate(x_test, y_test, verbose = 2)\n",
    "print(\"loss : {}\".format(test_loss))\n",
    "print(\"accuracy : {}\".format(test_accuracy))"
   ]
  }
 ],
 "metadata": {
  "kernelspec": {
   "display_name": "Python 3",
   "language": "python",
   "name": "python3"
  },
  "language_info": {
   "codemirror_mode": {
    "name": "ipython",
    "version": 3
   },
   "file_extension": ".py",
   "mimetype": "text/x-python",
   "name": "python",
   "nbconvert_exporter": "python",
   "pygments_lexer": "ipython3",
   "version": "3.7.9"
  }
 },
 "nbformat": 4,
 "nbformat_minor": 5
}
