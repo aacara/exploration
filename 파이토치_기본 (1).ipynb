{
  "nbformat": 4,
  "nbformat_minor": 0,
  "metadata": {
    "colab": {
      "name": "파이토치 기본",
      "provenance": [],
      "collapsed_sections": []
    },
    "kernelspec": {
      "name": "python3",
      "display_name": "Python 3"
    },
    "language_info": {
      "name": "python"
    },
    "widgets": {
      "application/vnd.jupyter.widget-state+json": {
        "fc0457c2b5894bfa8e185964635902b2": {
          "model_module": "@jupyter-widgets/controls",
          "model_name": "HBoxModel",
          "model_module_version": "1.5.0",
          "state": {
            "_dom_classes": [],
            "_model_module": "@jupyter-widgets/controls",
            "_model_module_version": "1.5.0",
            "_model_name": "HBoxModel",
            "_view_count": null,
            "_view_module": "@jupyter-widgets/controls",
            "_view_module_version": "1.5.0",
            "_view_name": "HBoxView",
            "box_style": "",
            "children": [
              "IPY_MODEL_561587d28e93417c8dd142d0b45cd3ff",
              "IPY_MODEL_22ecae8d45d64713b4eea23534d55e14",
              "IPY_MODEL_70d13a4156a042d290a2b20a97a7ceb0"
            ],
            "layout": "IPY_MODEL_877d425abb1f4f58a09a2d5326b58264"
          }
        },
        "561587d28e93417c8dd142d0b45cd3ff": {
          "model_module": "@jupyter-widgets/controls",
          "model_name": "HTMLModel",
          "model_module_version": "1.5.0",
          "state": {
            "_dom_classes": [],
            "_model_module": "@jupyter-widgets/controls",
            "_model_module_version": "1.5.0",
            "_model_name": "HTMLModel",
            "_view_count": null,
            "_view_module": "@jupyter-widgets/controls",
            "_view_module_version": "1.5.0",
            "_view_name": "HTMLView",
            "description": "",
            "description_tooltip": null,
            "layout": "IPY_MODEL_a2a8450fd2bc46e4bf368bd766e38bcf",
            "placeholder": "​",
            "style": "IPY_MODEL_84f2f82f3d444055a45c5d3924c06471",
            "value": ""
          }
        },
        "22ecae8d45d64713b4eea23534d55e14": {
          "model_module": "@jupyter-widgets/controls",
          "model_name": "FloatProgressModel",
          "model_module_version": "1.5.0",
          "state": {
            "_dom_classes": [],
            "_model_module": "@jupyter-widgets/controls",
            "_model_module_version": "1.5.0",
            "_model_name": "FloatProgressModel",
            "_view_count": null,
            "_view_module": "@jupyter-widgets/controls",
            "_view_module_version": "1.5.0",
            "_view_name": "ProgressView",
            "bar_style": "success",
            "description": "",
            "description_tooltip": null,
            "layout": "IPY_MODEL_2140678c366e416bb957c6deafa3e136",
            "max": 26421880,
            "min": 0,
            "orientation": "horizontal",
            "style": "IPY_MODEL_e6d4f6c7c287454a9daea94ca8429506",
            "value": 26421880
          }
        },
        "70d13a4156a042d290a2b20a97a7ceb0": {
          "model_module": "@jupyter-widgets/controls",
          "model_name": "HTMLModel",
          "model_module_version": "1.5.0",
          "state": {
            "_dom_classes": [],
            "_model_module": "@jupyter-widgets/controls",
            "_model_module_version": "1.5.0",
            "_model_name": "HTMLModel",
            "_view_count": null,
            "_view_module": "@jupyter-widgets/controls",
            "_view_module_version": "1.5.0",
            "_view_name": "HTMLView",
            "description": "",
            "description_tooltip": null,
            "layout": "IPY_MODEL_aacf47214d744796b0e40e0773bc9a21",
            "placeholder": "​",
            "style": "IPY_MODEL_804cfb1882224c57a48ea94c5fc34eff",
            "value": " 26422272/? [00:04&lt;00:00, 10836407.36it/s]"
          }
        },
        "877d425abb1f4f58a09a2d5326b58264": {
          "model_module": "@jupyter-widgets/base",
          "model_name": "LayoutModel",
          "model_module_version": "1.2.0",
          "state": {
            "_model_module": "@jupyter-widgets/base",
            "_model_module_version": "1.2.0",
            "_model_name": "LayoutModel",
            "_view_count": null,
            "_view_module": "@jupyter-widgets/base",
            "_view_module_version": "1.2.0",
            "_view_name": "LayoutView",
            "align_content": null,
            "align_items": null,
            "align_self": null,
            "border": null,
            "bottom": null,
            "display": null,
            "flex": null,
            "flex_flow": null,
            "grid_area": null,
            "grid_auto_columns": null,
            "grid_auto_flow": null,
            "grid_auto_rows": null,
            "grid_column": null,
            "grid_gap": null,
            "grid_row": null,
            "grid_template_areas": null,
            "grid_template_columns": null,
            "grid_template_rows": null,
            "height": null,
            "justify_content": null,
            "justify_items": null,
            "left": null,
            "margin": null,
            "max_height": null,
            "max_width": null,
            "min_height": null,
            "min_width": null,
            "object_fit": null,
            "object_position": null,
            "order": null,
            "overflow": null,
            "overflow_x": null,
            "overflow_y": null,
            "padding": null,
            "right": null,
            "top": null,
            "visibility": null,
            "width": null
          }
        },
        "a2a8450fd2bc46e4bf368bd766e38bcf": {
          "model_module": "@jupyter-widgets/base",
          "model_name": "LayoutModel",
          "model_module_version": "1.2.0",
          "state": {
            "_model_module": "@jupyter-widgets/base",
            "_model_module_version": "1.2.0",
            "_model_name": "LayoutModel",
            "_view_count": null,
            "_view_module": "@jupyter-widgets/base",
            "_view_module_version": "1.2.0",
            "_view_name": "LayoutView",
            "align_content": null,
            "align_items": null,
            "align_self": null,
            "border": null,
            "bottom": null,
            "display": null,
            "flex": null,
            "flex_flow": null,
            "grid_area": null,
            "grid_auto_columns": null,
            "grid_auto_flow": null,
            "grid_auto_rows": null,
            "grid_column": null,
            "grid_gap": null,
            "grid_row": null,
            "grid_template_areas": null,
            "grid_template_columns": null,
            "grid_template_rows": null,
            "height": null,
            "justify_content": null,
            "justify_items": null,
            "left": null,
            "margin": null,
            "max_height": null,
            "max_width": null,
            "min_height": null,
            "min_width": null,
            "object_fit": null,
            "object_position": null,
            "order": null,
            "overflow": null,
            "overflow_x": null,
            "overflow_y": null,
            "padding": null,
            "right": null,
            "top": null,
            "visibility": null,
            "width": null
          }
        },
        "84f2f82f3d444055a45c5d3924c06471": {
          "model_module": "@jupyter-widgets/controls",
          "model_name": "DescriptionStyleModel",
          "model_module_version": "1.5.0",
          "state": {
            "_model_module": "@jupyter-widgets/controls",
            "_model_module_version": "1.5.0",
            "_model_name": "DescriptionStyleModel",
            "_view_count": null,
            "_view_module": "@jupyter-widgets/base",
            "_view_module_version": "1.2.0",
            "_view_name": "StyleView",
            "description_width": ""
          }
        },
        "2140678c366e416bb957c6deafa3e136": {
          "model_module": "@jupyter-widgets/base",
          "model_name": "LayoutModel",
          "model_module_version": "1.2.0",
          "state": {
            "_model_module": "@jupyter-widgets/base",
            "_model_module_version": "1.2.0",
            "_model_name": "LayoutModel",
            "_view_count": null,
            "_view_module": "@jupyter-widgets/base",
            "_view_module_version": "1.2.0",
            "_view_name": "LayoutView",
            "align_content": null,
            "align_items": null,
            "align_self": null,
            "border": null,
            "bottom": null,
            "display": null,
            "flex": null,
            "flex_flow": null,
            "grid_area": null,
            "grid_auto_columns": null,
            "grid_auto_flow": null,
            "grid_auto_rows": null,
            "grid_column": null,
            "grid_gap": null,
            "grid_row": null,
            "grid_template_areas": null,
            "grid_template_columns": null,
            "grid_template_rows": null,
            "height": null,
            "justify_content": null,
            "justify_items": null,
            "left": null,
            "margin": null,
            "max_height": null,
            "max_width": null,
            "min_height": null,
            "min_width": null,
            "object_fit": null,
            "object_position": null,
            "order": null,
            "overflow": null,
            "overflow_x": null,
            "overflow_y": null,
            "padding": null,
            "right": null,
            "top": null,
            "visibility": null,
            "width": null
          }
        },
        "e6d4f6c7c287454a9daea94ca8429506": {
          "model_module": "@jupyter-widgets/controls",
          "model_name": "ProgressStyleModel",
          "model_module_version": "1.5.0",
          "state": {
            "_model_module": "@jupyter-widgets/controls",
            "_model_module_version": "1.5.0",
            "_model_name": "ProgressStyleModel",
            "_view_count": null,
            "_view_module": "@jupyter-widgets/base",
            "_view_module_version": "1.2.0",
            "_view_name": "StyleView",
            "bar_color": null,
            "description_width": ""
          }
        },
        "aacf47214d744796b0e40e0773bc9a21": {
          "model_module": "@jupyter-widgets/base",
          "model_name": "LayoutModel",
          "model_module_version": "1.2.0",
          "state": {
            "_model_module": "@jupyter-widgets/base",
            "_model_module_version": "1.2.0",
            "_model_name": "LayoutModel",
            "_view_count": null,
            "_view_module": "@jupyter-widgets/base",
            "_view_module_version": "1.2.0",
            "_view_name": "LayoutView",
            "align_content": null,
            "align_items": null,
            "align_self": null,
            "border": null,
            "bottom": null,
            "display": null,
            "flex": null,
            "flex_flow": null,
            "grid_area": null,
            "grid_auto_columns": null,
            "grid_auto_flow": null,
            "grid_auto_rows": null,
            "grid_column": null,
            "grid_gap": null,
            "grid_row": null,
            "grid_template_areas": null,
            "grid_template_columns": null,
            "grid_template_rows": null,
            "height": null,
            "justify_content": null,
            "justify_items": null,
            "left": null,
            "margin": null,
            "max_height": null,
            "max_width": null,
            "min_height": null,
            "min_width": null,
            "object_fit": null,
            "object_position": null,
            "order": null,
            "overflow": null,
            "overflow_x": null,
            "overflow_y": null,
            "padding": null,
            "right": null,
            "top": null,
            "visibility": null,
            "width": null
          }
        },
        "804cfb1882224c57a48ea94c5fc34eff": {
          "model_module": "@jupyter-widgets/controls",
          "model_name": "DescriptionStyleModel",
          "model_module_version": "1.5.0",
          "state": {
            "_model_module": "@jupyter-widgets/controls",
            "_model_module_version": "1.5.0",
            "_model_name": "DescriptionStyleModel",
            "_view_count": null,
            "_view_module": "@jupyter-widgets/base",
            "_view_module_version": "1.2.0",
            "_view_name": "StyleView",
            "description_width": ""
          }
        },
        "e4f821f13f114b409ae1a21df08955e4": {
          "model_module": "@jupyter-widgets/controls",
          "model_name": "HBoxModel",
          "model_module_version": "1.5.0",
          "state": {
            "_dom_classes": [],
            "_model_module": "@jupyter-widgets/controls",
            "_model_module_version": "1.5.0",
            "_model_name": "HBoxModel",
            "_view_count": null,
            "_view_module": "@jupyter-widgets/controls",
            "_view_module_version": "1.5.0",
            "_view_name": "HBoxView",
            "box_style": "",
            "children": [
              "IPY_MODEL_11ec61fb63da430392bd9407fbf1cc0c",
              "IPY_MODEL_d81583ef065d472f8d1beb78e8999b04",
              "IPY_MODEL_db7b29bff9004232a266c64bb834675f"
            ],
            "layout": "IPY_MODEL_b8e01f27517b48beb0bd2c1898d8101b"
          }
        },
        "11ec61fb63da430392bd9407fbf1cc0c": {
          "model_module": "@jupyter-widgets/controls",
          "model_name": "HTMLModel",
          "model_module_version": "1.5.0",
          "state": {
            "_dom_classes": [],
            "_model_module": "@jupyter-widgets/controls",
            "_model_module_version": "1.5.0",
            "_model_name": "HTMLModel",
            "_view_count": null,
            "_view_module": "@jupyter-widgets/controls",
            "_view_module_version": "1.5.0",
            "_view_name": "HTMLView",
            "description": "",
            "description_tooltip": null,
            "layout": "IPY_MODEL_182f088e0071440c883a839d85fd1550",
            "placeholder": "​",
            "style": "IPY_MODEL_a67d18fe3e9c46b084f5a69e52627ddb",
            "value": ""
          }
        },
        "d81583ef065d472f8d1beb78e8999b04": {
          "model_module": "@jupyter-widgets/controls",
          "model_name": "FloatProgressModel",
          "model_module_version": "1.5.0",
          "state": {
            "_dom_classes": [],
            "_model_module": "@jupyter-widgets/controls",
            "_model_module_version": "1.5.0",
            "_model_name": "FloatProgressModel",
            "_view_count": null,
            "_view_module": "@jupyter-widgets/controls",
            "_view_module_version": "1.5.0",
            "_view_name": "ProgressView",
            "bar_style": "success",
            "description": "",
            "description_tooltip": null,
            "layout": "IPY_MODEL_120458380a5e48a5804a1c16dd507113",
            "max": 29515,
            "min": 0,
            "orientation": "horizontal",
            "style": "IPY_MODEL_bf7467abcd104462ae40e7f8c9b6ea38",
            "value": 29515
          }
        },
        "db7b29bff9004232a266c64bb834675f": {
          "model_module": "@jupyter-widgets/controls",
          "model_name": "HTMLModel",
          "model_module_version": "1.5.0",
          "state": {
            "_dom_classes": [],
            "_model_module": "@jupyter-widgets/controls",
            "_model_module_version": "1.5.0",
            "_model_name": "HTMLModel",
            "_view_count": null,
            "_view_module": "@jupyter-widgets/controls",
            "_view_module_version": "1.5.0",
            "_view_name": "HTMLView",
            "description": "",
            "description_tooltip": null,
            "layout": "IPY_MODEL_240146b5d0954d6e8a8ace945c28f48b",
            "placeholder": "​",
            "style": "IPY_MODEL_3154f15735e841459738144c2f281bd5",
            "value": " 29696/? [00:00&lt;00:00, 39884.21it/s]"
          }
        },
        "b8e01f27517b48beb0bd2c1898d8101b": {
          "model_module": "@jupyter-widgets/base",
          "model_name": "LayoutModel",
          "model_module_version": "1.2.0",
          "state": {
            "_model_module": "@jupyter-widgets/base",
            "_model_module_version": "1.2.0",
            "_model_name": "LayoutModel",
            "_view_count": null,
            "_view_module": "@jupyter-widgets/base",
            "_view_module_version": "1.2.0",
            "_view_name": "LayoutView",
            "align_content": null,
            "align_items": null,
            "align_self": null,
            "border": null,
            "bottom": null,
            "display": null,
            "flex": null,
            "flex_flow": null,
            "grid_area": null,
            "grid_auto_columns": null,
            "grid_auto_flow": null,
            "grid_auto_rows": null,
            "grid_column": null,
            "grid_gap": null,
            "grid_row": null,
            "grid_template_areas": null,
            "grid_template_columns": null,
            "grid_template_rows": null,
            "height": null,
            "justify_content": null,
            "justify_items": null,
            "left": null,
            "margin": null,
            "max_height": null,
            "max_width": null,
            "min_height": null,
            "min_width": null,
            "object_fit": null,
            "object_position": null,
            "order": null,
            "overflow": null,
            "overflow_x": null,
            "overflow_y": null,
            "padding": null,
            "right": null,
            "top": null,
            "visibility": null,
            "width": null
          }
        },
        "182f088e0071440c883a839d85fd1550": {
          "model_module": "@jupyter-widgets/base",
          "model_name": "LayoutModel",
          "model_module_version": "1.2.0",
          "state": {
            "_model_module": "@jupyter-widgets/base",
            "_model_module_version": "1.2.0",
            "_model_name": "LayoutModel",
            "_view_count": null,
            "_view_module": "@jupyter-widgets/base",
            "_view_module_version": "1.2.0",
            "_view_name": "LayoutView",
            "align_content": null,
            "align_items": null,
            "align_self": null,
            "border": null,
            "bottom": null,
            "display": null,
            "flex": null,
            "flex_flow": null,
            "grid_area": null,
            "grid_auto_columns": null,
            "grid_auto_flow": null,
            "grid_auto_rows": null,
            "grid_column": null,
            "grid_gap": null,
            "grid_row": null,
            "grid_template_areas": null,
            "grid_template_columns": null,
            "grid_template_rows": null,
            "height": null,
            "justify_content": null,
            "justify_items": null,
            "left": null,
            "margin": null,
            "max_height": null,
            "max_width": null,
            "min_height": null,
            "min_width": null,
            "object_fit": null,
            "object_position": null,
            "order": null,
            "overflow": null,
            "overflow_x": null,
            "overflow_y": null,
            "padding": null,
            "right": null,
            "top": null,
            "visibility": null,
            "width": null
          }
        },
        "a67d18fe3e9c46b084f5a69e52627ddb": {
          "model_module": "@jupyter-widgets/controls",
          "model_name": "DescriptionStyleModel",
          "model_module_version": "1.5.0",
          "state": {
            "_model_module": "@jupyter-widgets/controls",
            "_model_module_version": "1.5.0",
            "_model_name": "DescriptionStyleModel",
            "_view_count": null,
            "_view_module": "@jupyter-widgets/base",
            "_view_module_version": "1.2.0",
            "_view_name": "StyleView",
            "description_width": ""
          }
        },
        "120458380a5e48a5804a1c16dd507113": {
          "model_module": "@jupyter-widgets/base",
          "model_name": "LayoutModel",
          "model_module_version": "1.2.0",
          "state": {
            "_model_module": "@jupyter-widgets/base",
            "_model_module_version": "1.2.0",
            "_model_name": "LayoutModel",
            "_view_count": null,
            "_view_module": "@jupyter-widgets/base",
            "_view_module_version": "1.2.0",
            "_view_name": "LayoutView",
            "align_content": null,
            "align_items": null,
            "align_self": null,
            "border": null,
            "bottom": null,
            "display": null,
            "flex": null,
            "flex_flow": null,
            "grid_area": null,
            "grid_auto_columns": null,
            "grid_auto_flow": null,
            "grid_auto_rows": null,
            "grid_column": null,
            "grid_gap": null,
            "grid_row": null,
            "grid_template_areas": null,
            "grid_template_columns": null,
            "grid_template_rows": null,
            "height": null,
            "justify_content": null,
            "justify_items": null,
            "left": null,
            "margin": null,
            "max_height": null,
            "max_width": null,
            "min_height": null,
            "min_width": null,
            "object_fit": null,
            "object_position": null,
            "order": null,
            "overflow": null,
            "overflow_x": null,
            "overflow_y": null,
            "padding": null,
            "right": null,
            "top": null,
            "visibility": null,
            "width": null
          }
        },
        "bf7467abcd104462ae40e7f8c9b6ea38": {
          "model_module": "@jupyter-widgets/controls",
          "model_name": "ProgressStyleModel",
          "model_module_version": "1.5.0",
          "state": {
            "_model_module": "@jupyter-widgets/controls",
            "_model_module_version": "1.5.0",
            "_model_name": "ProgressStyleModel",
            "_view_count": null,
            "_view_module": "@jupyter-widgets/base",
            "_view_module_version": "1.2.0",
            "_view_name": "StyleView",
            "bar_color": null,
            "description_width": ""
          }
        },
        "240146b5d0954d6e8a8ace945c28f48b": {
          "model_module": "@jupyter-widgets/base",
          "model_name": "LayoutModel",
          "model_module_version": "1.2.0",
          "state": {
            "_model_module": "@jupyter-widgets/base",
            "_model_module_version": "1.2.0",
            "_model_name": "LayoutModel",
            "_view_count": null,
            "_view_module": "@jupyter-widgets/base",
            "_view_module_version": "1.2.0",
            "_view_name": "LayoutView",
            "align_content": null,
            "align_items": null,
            "align_self": null,
            "border": null,
            "bottom": null,
            "display": null,
            "flex": null,
            "flex_flow": null,
            "grid_area": null,
            "grid_auto_columns": null,
            "grid_auto_flow": null,
            "grid_auto_rows": null,
            "grid_column": null,
            "grid_gap": null,
            "grid_row": null,
            "grid_template_areas": null,
            "grid_template_columns": null,
            "grid_template_rows": null,
            "height": null,
            "justify_content": null,
            "justify_items": null,
            "left": null,
            "margin": null,
            "max_height": null,
            "max_width": null,
            "min_height": null,
            "min_width": null,
            "object_fit": null,
            "object_position": null,
            "order": null,
            "overflow": null,
            "overflow_x": null,
            "overflow_y": null,
            "padding": null,
            "right": null,
            "top": null,
            "visibility": null,
            "width": null
          }
        },
        "3154f15735e841459738144c2f281bd5": {
          "model_module": "@jupyter-widgets/controls",
          "model_name": "DescriptionStyleModel",
          "model_module_version": "1.5.0",
          "state": {
            "_model_module": "@jupyter-widgets/controls",
            "_model_module_version": "1.5.0",
            "_model_name": "DescriptionStyleModel",
            "_view_count": null,
            "_view_module": "@jupyter-widgets/base",
            "_view_module_version": "1.2.0",
            "_view_name": "StyleView",
            "description_width": ""
          }
        },
        "ca96ae7e630c4a4faf7434eead95fab6": {
          "model_module": "@jupyter-widgets/controls",
          "model_name": "HBoxModel",
          "model_module_version": "1.5.0",
          "state": {
            "_dom_classes": [],
            "_model_module": "@jupyter-widgets/controls",
            "_model_module_version": "1.5.0",
            "_model_name": "HBoxModel",
            "_view_count": null,
            "_view_module": "@jupyter-widgets/controls",
            "_view_module_version": "1.5.0",
            "_view_name": "HBoxView",
            "box_style": "",
            "children": [
              "IPY_MODEL_ff141f2fc4804fe5bab545e1bf86951e",
              "IPY_MODEL_327b21e4585147a3a875e5ac649671a1",
              "IPY_MODEL_e968cd90257c4d15b199c0fc78682358"
            ],
            "layout": "IPY_MODEL_70aec7043cdd4eb195c70c17cf6d5619"
          }
        },
        "ff141f2fc4804fe5bab545e1bf86951e": {
          "model_module": "@jupyter-widgets/controls",
          "model_name": "HTMLModel",
          "model_module_version": "1.5.0",
          "state": {
            "_dom_classes": [],
            "_model_module": "@jupyter-widgets/controls",
            "_model_module_version": "1.5.0",
            "_model_name": "HTMLModel",
            "_view_count": null,
            "_view_module": "@jupyter-widgets/controls",
            "_view_module_version": "1.5.0",
            "_view_name": "HTMLView",
            "description": "",
            "description_tooltip": null,
            "layout": "IPY_MODEL_3fb2617635904fb2968ed8db0352f449",
            "placeholder": "​",
            "style": "IPY_MODEL_597b47182c7c4be3a0d9156fdd64db96",
            "value": ""
          }
        },
        "327b21e4585147a3a875e5ac649671a1": {
          "model_module": "@jupyter-widgets/controls",
          "model_name": "FloatProgressModel",
          "model_module_version": "1.5.0",
          "state": {
            "_dom_classes": [],
            "_model_module": "@jupyter-widgets/controls",
            "_model_module_version": "1.5.0",
            "_model_name": "FloatProgressModel",
            "_view_count": null,
            "_view_module": "@jupyter-widgets/controls",
            "_view_module_version": "1.5.0",
            "_view_name": "ProgressView",
            "bar_style": "success",
            "description": "",
            "description_tooltip": null,
            "layout": "IPY_MODEL_2c92ad92ded646d1b2063361a6668d58",
            "max": 4422102,
            "min": 0,
            "orientation": "horizontal",
            "style": "IPY_MODEL_f8a0a7131c8f4eb2a8be8f1a44773b9b",
            "value": 4422102
          }
        },
        "e968cd90257c4d15b199c0fc78682358": {
          "model_module": "@jupyter-widgets/controls",
          "model_name": "HTMLModel",
          "model_module_version": "1.5.0",
          "state": {
            "_dom_classes": [],
            "_model_module": "@jupyter-widgets/controls",
            "_model_module_version": "1.5.0",
            "_model_name": "HTMLModel",
            "_view_count": null,
            "_view_module": "@jupyter-widgets/controls",
            "_view_module_version": "1.5.0",
            "_view_name": "HTMLView",
            "description": "",
            "description_tooltip": null,
            "layout": "IPY_MODEL_269d78f675b34511beec3a1e87741962",
            "placeholder": "​",
            "style": "IPY_MODEL_a3cd967bbca448419fa355d5f3cee709",
            "value": " 4422656/? [00:02&lt;00:00, 3238882.46it/s]"
          }
        },
        "70aec7043cdd4eb195c70c17cf6d5619": {
          "model_module": "@jupyter-widgets/base",
          "model_name": "LayoutModel",
          "model_module_version": "1.2.0",
          "state": {
            "_model_module": "@jupyter-widgets/base",
            "_model_module_version": "1.2.0",
            "_model_name": "LayoutModel",
            "_view_count": null,
            "_view_module": "@jupyter-widgets/base",
            "_view_module_version": "1.2.0",
            "_view_name": "LayoutView",
            "align_content": null,
            "align_items": null,
            "align_self": null,
            "border": null,
            "bottom": null,
            "display": null,
            "flex": null,
            "flex_flow": null,
            "grid_area": null,
            "grid_auto_columns": null,
            "grid_auto_flow": null,
            "grid_auto_rows": null,
            "grid_column": null,
            "grid_gap": null,
            "grid_row": null,
            "grid_template_areas": null,
            "grid_template_columns": null,
            "grid_template_rows": null,
            "height": null,
            "justify_content": null,
            "justify_items": null,
            "left": null,
            "margin": null,
            "max_height": null,
            "max_width": null,
            "min_height": null,
            "min_width": null,
            "object_fit": null,
            "object_position": null,
            "order": null,
            "overflow": null,
            "overflow_x": null,
            "overflow_y": null,
            "padding": null,
            "right": null,
            "top": null,
            "visibility": null,
            "width": null
          }
        },
        "3fb2617635904fb2968ed8db0352f449": {
          "model_module": "@jupyter-widgets/base",
          "model_name": "LayoutModel",
          "model_module_version": "1.2.0",
          "state": {
            "_model_module": "@jupyter-widgets/base",
            "_model_module_version": "1.2.0",
            "_model_name": "LayoutModel",
            "_view_count": null,
            "_view_module": "@jupyter-widgets/base",
            "_view_module_version": "1.2.0",
            "_view_name": "LayoutView",
            "align_content": null,
            "align_items": null,
            "align_self": null,
            "border": null,
            "bottom": null,
            "display": null,
            "flex": null,
            "flex_flow": null,
            "grid_area": null,
            "grid_auto_columns": null,
            "grid_auto_flow": null,
            "grid_auto_rows": null,
            "grid_column": null,
            "grid_gap": null,
            "grid_row": null,
            "grid_template_areas": null,
            "grid_template_columns": null,
            "grid_template_rows": null,
            "height": null,
            "justify_content": null,
            "justify_items": null,
            "left": null,
            "margin": null,
            "max_height": null,
            "max_width": null,
            "min_height": null,
            "min_width": null,
            "object_fit": null,
            "object_position": null,
            "order": null,
            "overflow": null,
            "overflow_x": null,
            "overflow_y": null,
            "padding": null,
            "right": null,
            "top": null,
            "visibility": null,
            "width": null
          }
        },
        "597b47182c7c4be3a0d9156fdd64db96": {
          "model_module": "@jupyter-widgets/controls",
          "model_name": "DescriptionStyleModel",
          "model_module_version": "1.5.0",
          "state": {
            "_model_module": "@jupyter-widgets/controls",
            "_model_module_version": "1.5.0",
            "_model_name": "DescriptionStyleModel",
            "_view_count": null,
            "_view_module": "@jupyter-widgets/base",
            "_view_module_version": "1.2.0",
            "_view_name": "StyleView",
            "description_width": ""
          }
        },
        "2c92ad92ded646d1b2063361a6668d58": {
          "model_module": "@jupyter-widgets/base",
          "model_name": "LayoutModel",
          "model_module_version": "1.2.0",
          "state": {
            "_model_module": "@jupyter-widgets/base",
            "_model_module_version": "1.2.0",
            "_model_name": "LayoutModel",
            "_view_count": null,
            "_view_module": "@jupyter-widgets/base",
            "_view_module_version": "1.2.0",
            "_view_name": "LayoutView",
            "align_content": null,
            "align_items": null,
            "align_self": null,
            "border": null,
            "bottom": null,
            "display": null,
            "flex": null,
            "flex_flow": null,
            "grid_area": null,
            "grid_auto_columns": null,
            "grid_auto_flow": null,
            "grid_auto_rows": null,
            "grid_column": null,
            "grid_gap": null,
            "grid_row": null,
            "grid_template_areas": null,
            "grid_template_columns": null,
            "grid_template_rows": null,
            "height": null,
            "justify_content": null,
            "justify_items": null,
            "left": null,
            "margin": null,
            "max_height": null,
            "max_width": null,
            "min_height": null,
            "min_width": null,
            "object_fit": null,
            "object_position": null,
            "order": null,
            "overflow": null,
            "overflow_x": null,
            "overflow_y": null,
            "padding": null,
            "right": null,
            "top": null,
            "visibility": null,
            "width": null
          }
        },
        "f8a0a7131c8f4eb2a8be8f1a44773b9b": {
          "model_module": "@jupyter-widgets/controls",
          "model_name": "ProgressStyleModel",
          "model_module_version": "1.5.0",
          "state": {
            "_model_module": "@jupyter-widgets/controls",
            "_model_module_version": "1.5.0",
            "_model_name": "ProgressStyleModel",
            "_view_count": null,
            "_view_module": "@jupyter-widgets/base",
            "_view_module_version": "1.2.0",
            "_view_name": "StyleView",
            "bar_color": null,
            "description_width": ""
          }
        },
        "269d78f675b34511beec3a1e87741962": {
          "model_module": "@jupyter-widgets/base",
          "model_name": "LayoutModel",
          "model_module_version": "1.2.0",
          "state": {
            "_model_module": "@jupyter-widgets/base",
            "_model_module_version": "1.2.0",
            "_model_name": "LayoutModel",
            "_view_count": null,
            "_view_module": "@jupyter-widgets/base",
            "_view_module_version": "1.2.0",
            "_view_name": "LayoutView",
            "align_content": null,
            "align_items": null,
            "align_self": null,
            "border": null,
            "bottom": null,
            "display": null,
            "flex": null,
            "flex_flow": null,
            "grid_area": null,
            "grid_auto_columns": null,
            "grid_auto_flow": null,
            "grid_auto_rows": null,
            "grid_column": null,
            "grid_gap": null,
            "grid_row": null,
            "grid_template_areas": null,
            "grid_template_columns": null,
            "grid_template_rows": null,
            "height": null,
            "justify_content": null,
            "justify_items": null,
            "left": null,
            "margin": null,
            "max_height": null,
            "max_width": null,
            "min_height": null,
            "min_width": null,
            "object_fit": null,
            "object_position": null,
            "order": null,
            "overflow": null,
            "overflow_x": null,
            "overflow_y": null,
            "padding": null,
            "right": null,
            "top": null,
            "visibility": null,
            "width": null
          }
        },
        "a3cd967bbca448419fa355d5f3cee709": {
          "model_module": "@jupyter-widgets/controls",
          "model_name": "DescriptionStyleModel",
          "model_module_version": "1.5.0",
          "state": {
            "_model_module": "@jupyter-widgets/controls",
            "_model_module_version": "1.5.0",
            "_model_name": "DescriptionStyleModel",
            "_view_count": null,
            "_view_module": "@jupyter-widgets/base",
            "_view_module_version": "1.2.0",
            "_view_name": "StyleView",
            "description_width": ""
          }
        },
        "1b5fae25f3214ed390f6448419f6f8ac": {
          "model_module": "@jupyter-widgets/controls",
          "model_name": "HBoxModel",
          "model_module_version": "1.5.0",
          "state": {
            "_dom_classes": [],
            "_model_module": "@jupyter-widgets/controls",
            "_model_module_version": "1.5.0",
            "_model_name": "HBoxModel",
            "_view_count": null,
            "_view_module": "@jupyter-widgets/controls",
            "_view_module_version": "1.5.0",
            "_view_name": "HBoxView",
            "box_style": "",
            "children": [
              "IPY_MODEL_29302999dc8a43aead85547ed4a9573e",
              "IPY_MODEL_1121d8c43a2b4fdf833160c06cb7a59a",
              "IPY_MODEL_b7b3400a04f34eb59303a722af33af89"
            ],
            "layout": "IPY_MODEL_aeae72dd00c442e6996e4952e015e0f4"
          }
        },
        "29302999dc8a43aead85547ed4a9573e": {
          "model_module": "@jupyter-widgets/controls",
          "model_name": "HTMLModel",
          "model_module_version": "1.5.0",
          "state": {
            "_dom_classes": [],
            "_model_module": "@jupyter-widgets/controls",
            "_model_module_version": "1.5.0",
            "_model_name": "HTMLModel",
            "_view_count": null,
            "_view_module": "@jupyter-widgets/controls",
            "_view_module_version": "1.5.0",
            "_view_name": "HTMLView",
            "description": "",
            "description_tooltip": null,
            "layout": "IPY_MODEL_cdce6ec199804a95b93ace3847e5a482",
            "placeholder": "​",
            "style": "IPY_MODEL_54fda05dd37847dfba2f8c626c6c98a7",
            "value": ""
          }
        },
        "1121d8c43a2b4fdf833160c06cb7a59a": {
          "model_module": "@jupyter-widgets/controls",
          "model_name": "FloatProgressModel",
          "model_module_version": "1.5.0",
          "state": {
            "_dom_classes": [],
            "_model_module": "@jupyter-widgets/controls",
            "_model_module_version": "1.5.0",
            "_model_name": "FloatProgressModel",
            "_view_count": null,
            "_view_module": "@jupyter-widgets/controls",
            "_view_module_version": "1.5.0",
            "_view_name": "ProgressView",
            "bar_style": "success",
            "description": "",
            "description_tooltip": null,
            "layout": "IPY_MODEL_6768bdba972542e1b7d6558a2f4982b3",
            "max": 5148,
            "min": 0,
            "orientation": "horizontal",
            "style": "IPY_MODEL_97c7f54535754d89b7dbd7f526a66391",
            "value": 5148
          }
        },
        "b7b3400a04f34eb59303a722af33af89": {
          "model_module": "@jupyter-widgets/controls",
          "model_name": "HTMLModel",
          "model_module_version": "1.5.0",
          "state": {
            "_dom_classes": [],
            "_model_module": "@jupyter-widgets/controls",
            "_model_module_version": "1.5.0",
            "_model_name": "HTMLModel",
            "_view_count": null,
            "_view_module": "@jupyter-widgets/controls",
            "_view_module_version": "1.5.0",
            "_view_name": "HTMLView",
            "description": "",
            "description_tooltip": null,
            "layout": "IPY_MODEL_53e8ee4d443c4e938f2a049f35da3a3e",
            "placeholder": "​",
            "style": "IPY_MODEL_20cc81f59dde4f2bab3ddfa9610950dd",
            "value": " 6144/? [00:00&lt;00:00, 159434.05it/s]"
          }
        },
        "aeae72dd00c442e6996e4952e015e0f4": {
          "model_module": "@jupyter-widgets/base",
          "model_name": "LayoutModel",
          "model_module_version": "1.2.0",
          "state": {
            "_model_module": "@jupyter-widgets/base",
            "_model_module_version": "1.2.0",
            "_model_name": "LayoutModel",
            "_view_count": null,
            "_view_module": "@jupyter-widgets/base",
            "_view_module_version": "1.2.0",
            "_view_name": "LayoutView",
            "align_content": null,
            "align_items": null,
            "align_self": null,
            "border": null,
            "bottom": null,
            "display": null,
            "flex": null,
            "flex_flow": null,
            "grid_area": null,
            "grid_auto_columns": null,
            "grid_auto_flow": null,
            "grid_auto_rows": null,
            "grid_column": null,
            "grid_gap": null,
            "grid_row": null,
            "grid_template_areas": null,
            "grid_template_columns": null,
            "grid_template_rows": null,
            "height": null,
            "justify_content": null,
            "justify_items": null,
            "left": null,
            "margin": null,
            "max_height": null,
            "max_width": null,
            "min_height": null,
            "min_width": null,
            "object_fit": null,
            "object_position": null,
            "order": null,
            "overflow": null,
            "overflow_x": null,
            "overflow_y": null,
            "padding": null,
            "right": null,
            "top": null,
            "visibility": null,
            "width": null
          }
        },
        "cdce6ec199804a95b93ace3847e5a482": {
          "model_module": "@jupyter-widgets/base",
          "model_name": "LayoutModel",
          "model_module_version": "1.2.0",
          "state": {
            "_model_module": "@jupyter-widgets/base",
            "_model_module_version": "1.2.0",
            "_model_name": "LayoutModel",
            "_view_count": null,
            "_view_module": "@jupyter-widgets/base",
            "_view_module_version": "1.2.0",
            "_view_name": "LayoutView",
            "align_content": null,
            "align_items": null,
            "align_self": null,
            "border": null,
            "bottom": null,
            "display": null,
            "flex": null,
            "flex_flow": null,
            "grid_area": null,
            "grid_auto_columns": null,
            "grid_auto_flow": null,
            "grid_auto_rows": null,
            "grid_column": null,
            "grid_gap": null,
            "grid_row": null,
            "grid_template_areas": null,
            "grid_template_columns": null,
            "grid_template_rows": null,
            "height": null,
            "justify_content": null,
            "justify_items": null,
            "left": null,
            "margin": null,
            "max_height": null,
            "max_width": null,
            "min_height": null,
            "min_width": null,
            "object_fit": null,
            "object_position": null,
            "order": null,
            "overflow": null,
            "overflow_x": null,
            "overflow_y": null,
            "padding": null,
            "right": null,
            "top": null,
            "visibility": null,
            "width": null
          }
        },
        "54fda05dd37847dfba2f8c626c6c98a7": {
          "model_module": "@jupyter-widgets/controls",
          "model_name": "DescriptionStyleModel",
          "model_module_version": "1.5.0",
          "state": {
            "_model_module": "@jupyter-widgets/controls",
            "_model_module_version": "1.5.0",
            "_model_name": "DescriptionStyleModel",
            "_view_count": null,
            "_view_module": "@jupyter-widgets/base",
            "_view_module_version": "1.2.0",
            "_view_name": "StyleView",
            "description_width": ""
          }
        },
        "6768bdba972542e1b7d6558a2f4982b3": {
          "model_module": "@jupyter-widgets/base",
          "model_name": "LayoutModel",
          "model_module_version": "1.2.0",
          "state": {
            "_model_module": "@jupyter-widgets/base",
            "_model_module_version": "1.2.0",
            "_model_name": "LayoutModel",
            "_view_count": null,
            "_view_module": "@jupyter-widgets/base",
            "_view_module_version": "1.2.0",
            "_view_name": "LayoutView",
            "align_content": null,
            "align_items": null,
            "align_self": null,
            "border": null,
            "bottom": null,
            "display": null,
            "flex": null,
            "flex_flow": null,
            "grid_area": null,
            "grid_auto_columns": null,
            "grid_auto_flow": null,
            "grid_auto_rows": null,
            "grid_column": null,
            "grid_gap": null,
            "grid_row": null,
            "grid_template_areas": null,
            "grid_template_columns": null,
            "grid_template_rows": null,
            "height": null,
            "justify_content": null,
            "justify_items": null,
            "left": null,
            "margin": null,
            "max_height": null,
            "max_width": null,
            "min_height": null,
            "min_width": null,
            "object_fit": null,
            "object_position": null,
            "order": null,
            "overflow": null,
            "overflow_x": null,
            "overflow_y": null,
            "padding": null,
            "right": null,
            "top": null,
            "visibility": null,
            "width": null
          }
        },
        "97c7f54535754d89b7dbd7f526a66391": {
          "model_module": "@jupyter-widgets/controls",
          "model_name": "ProgressStyleModel",
          "model_module_version": "1.5.0",
          "state": {
            "_model_module": "@jupyter-widgets/controls",
            "_model_module_version": "1.5.0",
            "_model_name": "ProgressStyleModel",
            "_view_count": null,
            "_view_module": "@jupyter-widgets/base",
            "_view_module_version": "1.2.0",
            "_view_name": "StyleView",
            "bar_color": null,
            "description_width": ""
          }
        },
        "53e8ee4d443c4e938f2a049f35da3a3e": {
          "model_module": "@jupyter-widgets/base",
          "model_name": "LayoutModel",
          "model_module_version": "1.2.0",
          "state": {
            "_model_module": "@jupyter-widgets/base",
            "_model_module_version": "1.2.0",
            "_model_name": "LayoutModel",
            "_view_count": null,
            "_view_module": "@jupyter-widgets/base",
            "_view_module_version": "1.2.0",
            "_view_name": "LayoutView",
            "align_content": null,
            "align_items": null,
            "align_self": null,
            "border": null,
            "bottom": null,
            "display": null,
            "flex": null,
            "flex_flow": null,
            "grid_area": null,
            "grid_auto_columns": null,
            "grid_auto_flow": null,
            "grid_auto_rows": null,
            "grid_column": null,
            "grid_gap": null,
            "grid_row": null,
            "grid_template_areas": null,
            "grid_template_columns": null,
            "grid_template_rows": null,
            "height": null,
            "justify_content": null,
            "justify_items": null,
            "left": null,
            "margin": null,
            "max_height": null,
            "max_width": null,
            "min_height": null,
            "min_width": null,
            "object_fit": null,
            "object_position": null,
            "order": null,
            "overflow": null,
            "overflow_x": null,
            "overflow_y": null,
            "padding": null,
            "right": null,
            "top": null,
            "visibility": null,
            "width": null
          }
        },
        "20cc81f59dde4f2bab3ddfa9610950dd": {
          "model_module": "@jupyter-widgets/controls",
          "model_name": "DescriptionStyleModel",
          "model_module_version": "1.5.0",
          "state": {
            "_model_module": "@jupyter-widgets/controls",
            "_model_module_version": "1.5.0",
            "_model_name": "DescriptionStyleModel",
            "_view_count": null,
            "_view_module": "@jupyter-widgets/base",
            "_view_module_version": "1.2.0",
            "_view_name": "StyleView",
            "description_width": ""
          }
        }
      }
    }
  },
  "cells": [
    {
      "cell_type": "markdown",
      "source": [
        "# 데이터 작업하기"
      ],
      "metadata": {
        "id": "ZG7Q4t9OmKmM"
      }
    },
    {
      "cell_type": "code",
      "execution_count": 1,
      "metadata": {
        "id": "VKlVt30xl8ZV"
      },
      "outputs": [],
      "source": [
        "import torch\n",
        "from torch import nn\n",
        "from torch.utils.data import DataLoader\n",
        "from torchvision import datasets\n",
        "from torchvision.transforms import ToTensor, Lambda, Compose\n",
        "import matplotlib.pyplot as plt"
      ]
    },
    {
      "cell_type": "markdown",
      "source": [
        "## 라이브러리 사용법\n",
        "- 질문: import torch를 하면 torch 안에 nn 클래스를 포함한 모든 클래스와 클래스 안의 함수들을 불러오는데 왜 굳이 from torch import nn으로 nn을 불러올까요?   \n"
      ],
      "metadata": {
        "id": "qVLs_D5MmO4N"
      }
    },
    {
      "cell_type": "markdown",
      "source": [
        "- torch 안에 있는 nn을 자주 쓰기 때문에 빨리 빼오나요? 라고 하시는 분들 많을 것 같습니다.\n",
        "- 만약 from torch import nn이라는 표현없이 import torch만 있다면, nn을 사용할 때 torch.nn이라고 항상 써줘야한다. (class의 내 함수 불러올 때를 생각해보자    \n",
        "  (class명.함수) > (라이브러리명.claas명) > (라이브러리명.class명.함수명(예)torch.nn.functional) \n",
        "- from torch import nn이 있다면, nn을 사용할 때 nn이라고만 써줘도 사용가능하다.\n",
        "\n",
        "- 궁극적으로 라이브러리명은 짧을 수록 좋다.\n",
        " - import pandas as pd, import numpy as np는 라이브러리명을 짧게 쓰고자 하는 것\n",
        " - 더 나아가, from 라이브러리 import 함수는 자주쓰는 클래스들을 짧은 라이브러리명 쓰는 것도 싫어서 라이브러리명 생략을 가능하게 한다."
      ],
      "metadata": {
        "id": "QHmbzIbrnoYI"
      }
    },
    {
      "cell_type": "markdown",
      "source": [
        "# 라이브러리 하나씩 살펴보자"
      ],
      "metadata": {
        "id": "i0P9WJmQpWVT"
      }
    },
    {
      "cell_type": "code",
      "source": [
        "# 파이토치 기본 라이브러리\n",
        "import torch\n",
        "# torch 라이브러리 내 nn은 neural network의 약자로, neural network 구성에 필요한 함수들 갖고 있음\n",
        "# https://pytorch.org/docs/stable/nn.html#containers\n",
        "# 검색\n",
        "# 신경망을 구축하기 위한 다양한 데이터 구조나 레이어 등이 정의되어져 있습니다. \n",
        "# 예를 들어 RNN, LSTM과 같은 레이어, ReLU와 같은 활성화 함수, MSELoss와 같은 손실 함수들이 있습니다.\n",
        "from torch import nn\n",
        "# Dataloader는 데이터를 minibatch 형태로 만들어준다.\n",
        "# minibatch 사이즈 및 셔플 여부와 같은 디테일 선택 가능\n",
        "# 예시\n",
        "# trainloader = DataLoader(trainset, batch_size=70, shuffle=True)\n",
        "# testloader = DataLoader(testset, batch_size=50, shuffle=False)\n",
        "# train data는 shuffle=True, test data는 shuffle=False \n",
        "# shuffle =True는 모든 batch마다? Epoch마다? 어느때를 기준으로 suffling을 진행할까요?\n",
        "# https://pytorch.org/docs/stable/data.html\n",
        "from torch.utils.data import DataLoader\n",
        "# torchvision은 이미지 관련 전처리 기능들을 제공하는 라이브러리\n",
        "# torchvision 안의 dataset들은 이미지 관련 dataset이겠죠? \n",
        "# 대표적으로 CIFAR10 dataset도 포함\n",
        "# dataset은 어떤 형태로 불러올까요?\n",
        "# 지도학습에서 데이터셋은 이미지와 라벨이 동시에 들어있는 tuple형태\n",
        "# dataset 자체가 바뀔 일은 없으니까 list 형태보다 tuple 형태로 들어가 있는 거겠죠\n",
        "# (이미지, 라벨)\n",
        "# trainset에서 이미지 불러오려면 index 어떻게 표시?\n",
        "# 이미지 trainset[0], 라벨 trainset[1] 이게 맞을까요?\n",
        "# 라벨의 형태야 숫자하나가 들어가있을테고\n",
        "# 이미지 라벨의 형태볼까요\n",
        "# RGB 색깔 이미지 형태를 가정했을 때 보통 이미지 형태: 32*32*3: (width)*(height)*(channel)\n",
        "# 파이토치에서도 같은 형태로 표현될까요? 아닙니다. 3*32*32: (channel)*(width)*(height)\n",
        "# 나중에 모델에 dataset 입력해줄 때 순서 바꿔주는 작업이 필요하겠죠?\n",
        "from torchvision import datasets\n",
        "# 만약 ToTenseor, Lambda, Compose뿐 아니라 더 많은 transform 방법이 필요하다면?\n",
        "# import torchvision.transforms as tr이런식도 가능\n",
        "# tr.ToTensor, tr.Lambda, tr.Compose 이런식으로도 쓸 수 있겠죠?\n",
        "\n",
        "# torchvision은 이미지 관련 전처리 기능들을 제공한다고 했다\n",
        "# 다양한 이미지 변환 기능들을 제공\n",
        "\n",
        "# ToTensor는 텐서의 형태로 바꿔준다 이런 뜻인거 같은데 tensor란?\n",
        "# 사실 텐서는 pytorch의 기본 단위로, numpy 배열과 유사하다\n",
        "# 떠오르는 질문 > 그럼 numpy 배열로 사용하면 되지 파이토치는 왜 텐서 사용할까?\n",
        "# 인공지능에서 GPU의 사용은 중요한데 텐서는 GPU 연산을 가능하게 한다\n",
        "# 일반적인 numpy 배열로 이뤄진 정보를 파이토치가 받기 위해선 형태를 바꿔주는 ToTensor라는 기능이 중요하겠죠?\n",
        "# 텐서 계산에 대해 궁금하다 > 아래 링크 참고\n",
        "# # https://wikidocs.net/52460\n",
        "# 검색\n",
        "# - PIL 이미지 또는 numpy.ndarray 형식의 이미지를 tensor 형식으로 변환한다.\n",
        "#- 0~255의 범위를 갖는 (H x W x C)의 형식을 0.0~1.0의 범위를 갖는 (C x H x W)의 형식으로 변환한다.\n",
        "\n",
        "# Lambda\n",
        "# 우리가 함수를 만들어줄 수 있다\n",
        "\n",
        "# Compose\n",
        "# 여러 transform 들을 Compose로 구성할 수 있습니다.\n",
        "# 합쳐주는거\n",
        "#출처: https://dororongju.tistory.com/144 [웹 개발 메모장]\n",
        "from torchvision.transforms import ToTensor, Lambda, Compose\n",
        "# 그래프 그려주는 라이브러리\n",
        "import matplotlib.pyplot as plt"
      ],
      "metadata": {
        "id": "DJZZShycpdbC"
      },
      "execution_count": 2,
      "outputs": []
    },
    {
      "cell_type": "markdown",
      "source": [
        "torchvision.datasets 모듈은 CIFAR, COCO 등과 같은 다양한 실제 비전(vision) 데이터에 대한 Dataset(전체 목록은 여기)을 포함하고 있습니다. 이 튜토리얼에서는 FasionMNIST 데이터셋을 사용합니다. 모든 TorchVision Dataset 은 샘플과 정답을 각각 변경하기 위한 transform 과 target_transform 의 두 인자를 포함합니다."
      ],
      "metadata": {
        "id": "IWJl0iQ-3q0n"
      }
    },
    {
      "cell_type": "code",
      "source": [
        "# 공개 데이터셋에서 학습 데이터를 내려받습니다.\n",
        "training_data = datasets.FashionMNIST(\n",
        "    root=\"data\", # 데이터를 다운받을 경로\n",
        "    train=True, # 데이터를 training할 때 쓸건지 testing할 때 쓸건지 데이터 받는 시점에서는 모름\n",
        "    download=True, # download=True 는 root 에 데이터가 없는 경우 인터넷에서 다운로드\n",
        "    transform=ToTensor(),\n",
        ")\n",
        "\n",
        "# 공개 데이터셋에서 테스트 데이터를 내려받습니다.\n",
        "test_data = datasets.FashionMNIST(\n",
        "    root=\"data\",\n",
        "    train=False,\n",
        "    download=True,\n",
        "    transform=ToTensor(),\n",
        ")"
      ],
      "metadata": {
        "id": "FB2Y3KSC3rV_",
        "outputId": "3c569900-e730-4aa1-d091-5f05688885ce",
        "colab": {
          "base_uri": "https://localhost:8080/",
          "height": 435,
          "referenced_widgets": [
            "fc0457c2b5894bfa8e185964635902b2",
            "561587d28e93417c8dd142d0b45cd3ff",
            "22ecae8d45d64713b4eea23534d55e14",
            "70d13a4156a042d290a2b20a97a7ceb0",
            "877d425abb1f4f58a09a2d5326b58264",
            "a2a8450fd2bc46e4bf368bd766e38bcf",
            "84f2f82f3d444055a45c5d3924c06471",
            "2140678c366e416bb957c6deafa3e136",
            "e6d4f6c7c287454a9daea94ca8429506",
            "aacf47214d744796b0e40e0773bc9a21",
            "804cfb1882224c57a48ea94c5fc34eff",
            "e4f821f13f114b409ae1a21df08955e4",
            "11ec61fb63da430392bd9407fbf1cc0c",
            "d81583ef065d472f8d1beb78e8999b04",
            "db7b29bff9004232a266c64bb834675f",
            "b8e01f27517b48beb0bd2c1898d8101b",
            "182f088e0071440c883a839d85fd1550",
            "a67d18fe3e9c46b084f5a69e52627ddb",
            "120458380a5e48a5804a1c16dd507113",
            "bf7467abcd104462ae40e7f8c9b6ea38",
            "240146b5d0954d6e8a8ace945c28f48b",
            "3154f15735e841459738144c2f281bd5",
            "ca96ae7e630c4a4faf7434eead95fab6",
            "ff141f2fc4804fe5bab545e1bf86951e",
            "327b21e4585147a3a875e5ac649671a1",
            "e968cd90257c4d15b199c0fc78682358",
            "70aec7043cdd4eb195c70c17cf6d5619",
            "3fb2617635904fb2968ed8db0352f449",
            "597b47182c7c4be3a0d9156fdd64db96",
            "2c92ad92ded646d1b2063361a6668d58",
            "f8a0a7131c8f4eb2a8be8f1a44773b9b",
            "269d78f675b34511beec3a1e87741962",
            "a3cd967bbca448419fa355d5f3cee709",
            "1b5fae25f3214ed390f6448419f6f8ac",
            "29302999dc8a43aead85547ed4a9573e",
            "1121d8c43a2b4fdf833160c06cb7a59a",
            "b7b3400a04f34eb59303a722af33af89",
            "aeae72dd00c442e6996e4952e015e0f4",
            "cdce6ec199804a95b93ace3847e5a482",
            "54fda05dd37847dfba2f8c626c6c98a7",
            "6768bdba972542e1b7d6558a2f4982b3",
            "97c7f54535754d89b7dbd7f526a66391",
            "53e8ee4d443c4e938f2a049f35da3a3e",
            "20cc81f59dde4f2bab3ddfa9610950dd"
          ]
        }
      },
      "execution_count": 3,
      "outputs": [
        {
          "output_type": "stream",
          "name": "stdout",
          "text": [
            "Downloading http://fashion-mnist.s3-website.eu-central-1.amazonaws.com/train-images-idx3-ubyte.gz\n",
            "Downloading http://fashion-mnist.s3-website.eu-central-1.amazonaws.com/train-images-idx3-ubyte.gz to data/FashionMNIST/raw/train-images-idx3-ubyte.gz\n"
          ]
        },
        {
          "output_type": "display_data",
          "data": {
            "text/plain": [
              "  0%|          | 0/26421880 [00:00<?, ?it/s]"
            ],
            "application/vnd.jupyter.widget-view+json": {
              "version_major": 2,
              "version_minor": 0,
              "model_id": "fc0457c2b5894bfa8e185964635902b2"
            }
          },
          "metadata": {}
        },
        {
          "output_type": "stream",
          "name": "stdout",
          "text": [
            "Extracting data/FashionMNIST/raw/train-images-idx3-ubyte.gz to data/FashionMNIST/raw\n",
            "\n",
            "Downloading http://fashion-mnist.s3-website.eu-central-1.amazonaws.com/train-labels-idx1-ubyte.gz\n",
            "Downloading http://fashion-mnist.s3-website.eu-central-1.amazonaws.com/train-labels-idx1-ubyte.gz to data/FashionMNIST/raw/train-labels-idx1-ubyte.gz\n"
          ]
        },
        {
          "output_type": "display_data",
          "data": {
            "text/plain": [
              "  0%|          | 0/29515 [00:00<?, ?it/s]"
            ],
            "application/vnd.jupyter.widget-view+json": {
              "version_major": 2,
              "version_minor": 0,
              "model_id": "e4f821f13f114b409ae1a21df08955e4"
            }
          },
          "metadata": {}
        },
        {
          "output_type": "stream",
          "name": "stdout",
          "text": [
            "Extracting data/FashionMNIST/raw/train-labels-idx1-ubyte.gz to data/FashionMNIST/raw\n",
            "\n",
            "Downloading http://fashion-mnist.s3-website.eu-central-1.amazonaws.com/t10k-images-idx3-ubyte.gz\n",
            "Downloading http://fashion-mnist.s3-website.eu-central-1.amazonaws.com/t10k-images-idx3-ubyte.gz to data/FashionMNIST/raw/t10k-images-idx3-ubyte.gz\n"
          ]
        },
        {
          "output_type": "display_data",
          "data": {
            "text/plain": [
              "  0%|          | 0/4422102 [00:00<?, ?it/s]"
            ],
            "application/vnd.jupyter.widget-view+json": {
              "version_major": 2,
              "version_minor": 0,
              "model_id": "ca96ae7e630c4a4faf7434eead95fab6"
            }
          },
          "metadata": {}
        },
        {
          "output_type": "stream",
          "name": "stdout",
          "text": [
            "Extracting data/FashionMNIST/raw/t10k-images-idx3-ubyte.gz to data/FashionMNIST/raw\n",
            "\n",
            "Downloading http://fashion-mnist.s3-website.eu-central-1.amazonaws.com/t10k-labels-idx1-ubyte.gz\n",
            "Downloading http://fashion-mnist.s3-website.eu-central-1.amazonaws.com/t10k-labels-idx1-ubyte.gz to data/FashionMNIST/raw/t10k-labels-idx1-ubyte.gz\n"
          ]
        },
        {
          "output_type": "display_data",
          "data": {
            "text/plain": [
              "  0%|          | 0/5148 [00:00<?, ?it/s]"
            ],
            "application/vnd.jupyter.widget-view+json": {
              "version_major": 2,
              "version_minor": 0,
              "model_id": "1b5fae25f3214ed390f6448419f6f8ac"
            }
          },
          "metadata": {}
        },
        {
          "output_type": "stream",
          "name": "stdout",
          "text": [
            "Extracting data/FashionMNIST/raw/t10k-labels-idx1-ubyte.gz to data/FashionMNIST/raw\n",
            "\n"
          ]
        }
      ]
    },
    {
      "cell_type": "markdown",
      "source": [
        "Dataset 을 DataLoader 의 인자로 전달합니다. 이는 데이터셋을 순회 가능한 객체(iterable)로 감싸고, 자동화된 배치(batch), 샘플링(sampling), 섞기(shuffle) 및 다중 프로세스로 데이터 불러오기(multiprocess data loading)를 지원합니다. 여기서는 배치 크기(batch size)를 64로 정의합니다. 즉, 데이터로더(dataloader) 객체의 각 요소는 64개의 특징(feature)과 정답(label)을 묶음(batch)으로 반환합니다."
      ],
      "metadata": {
        "id": "MPIkwqiC4YKI"
      }
    },
    {
      "cell_type": "code",
      "source": [
        "# cs231n에서 parameter와 hyperparameter의 차이를 배웠었던거 기억나시나요?\n",
        "# parameter란?\n",
        "# hyperparameter란?\n",
        "# batch_size는 parameter, hyperparameter?\n",
        "# tip\n",
        "# 보통 hyperparameter를 계속 바꿔주는 tuning 작업을 할 때 편하게 하려면 \n",
        "# train_dataloader = DataLoader(training_data, batch_size=64) 이런식으로 직접 지정하지 않는다\n",
        "# 앞에 hyperparameter 따로 분류해놓으면 쓰이는 곳 일일이 찾아서 바꿔줄 필요 없다\n",
        "batch_size = 64\n",
        "\n",
        "# 데이터로더를 생성합니다.\n",
        "train_dataloader = DataLoader(training_data, batch_size=batch_size)\n",
        "test_dataloader = DataLoader(test_data, batch_size=batch_size)\n",
        "\n",
        "# X는 대문자, y는 소문자 오타일까요?\n",
        "# 이미지 x는 2차원 배열(행렬)이므로 대문자 X를, 타깃은 1차원 배열(벡터)이므로 소문자 y를 사용합니다.\n",
        "for X, y in test_dataloader:\n",
        "   # X.shape나 y.dtype 봐도 torch.이 항상 붙는거 확인\n",
        "    print(\"Shape of X [N, C, H, W]: \", X.shape)\n",
        "    print(\"Shape of y: \", y.shape, y.dtype) \n",
        "    break"
      ],
      "metadata": {
        "colab": {
          "base_uri": "https://localhost:8080/"
        },
        "id": "2U6ql2RR4Y97",
        "outputId": "f43f4403-4097-471e-bfc4-13e2ffc3798f"
      },
      "execution_count": 4,
      "outputs": [
        {
          "output_type": "stream",
          "name": "stdout",
          "text": [
            "Shape of X [N, C, H, W]:  torch.Size([64, 1, 28, 28])\n",
            "Shape of y:  torch.Size([64]) torch.int64\n"
          ]
        }
      ]
    },
    {
      "cell_type": "markdown",
      "source": [
        "- Pytorch에서 데이터 불러오는 방법\n",
        "- 링크: https://tutorials.pytorch.kr/beginner/basics/data_tutorial.html\n",
        "# 모델 만들기\n",
        "PyTorch에서 신경망 모델은 nn.Module 을 상속받는 클래스(class)를 생성하여 정의합니다. __init__ 함수에서 신경망의 계층(layer)들을 정의하고 forward 함수에서 신경망에 데이터를 어떻게 전달할지 지정합니다. 가능한 경우 GPU로 신경망을 이동시켜 연산을 가속(accelerate)합니다."
      ],
      "metadata": {
        "id": "dGnE4ybsZAFo"
      }
    },
    {
      "cell_type": "code",
      "source": [
        "# 학습에 사용할 CPU나 GPU 장치를 얻습니다.\n",
        "# device 설정으로 gpu 사용가능하다면 GPU 사용\n",
        "device = \"cuda\" if torch.cuda.is_available() else \"cpu\"\n",
        "# GPU 사용가능한지 여부를 우리가 확인해주기 위해\n",
        "print(f\"Using {device} device\")\n",
        "\n",
        "# 모델을 정의합니다.\n",
        "class NeuralNetwork(nn.Module): # 파이토치에서 신경망 모델은 nn.Module을 상속받는 클래스를 생성한다\n",
        "    # 신경망들의 계층 정의\n",
        "    def __init__(self):\n",
        "        # super()로 기반 클래스의 __init__ 메서드 호출\n",
        "        # 기반 클래스가 초기화되어서 속성이 만들어집니다\n",
        "        # https://dojang.io/mod/page/view.php?id=2386\n",
        "        super(NeuralNetwork, self).__init__() \n",
        "        self.flatten = nn.Flatten()\n",
        "        self.linear_relu_stack = nn.Sequential(\n",
        "            # 입력층의 노드 수: 28*28, 출력 노드 수: 512\n",
        "            nn.Linear(28*28, 512),\n",
        "            nn.ReLU(),\n",
        "            # 다음 층의 입력 노드 수와 직전 layer의 노드 수 일치해야한다\n",
        "            nn.Linear(512, 512),\n",
        "            nn.ReLU(),\n",
        "            nn.Linear(512, 10)\n",
        "        )\n",
        "    # forward pass 정의\n",
        "    def forward(self, x):\n",
        "        # 2차원 이미지 정보를 모델에 입력할 수 있는 형태로 받아오기\n",
        "        x = self.flatten(x)\n",
        "        logits = self.linear_relu_stack(x)\n",
        "        return logits\n",
        "\n",
        "# 가능한 경우 GPU를 사용하도록 설정\n",
        "model = NeuralNetwork().to(device)\n",
        "print(model)"
      ],
      "metadata": {
        "colab": {
          "base_uri": "https://localhost:8080/"
        },
        "id": "YD3hK3WPZKiQ",
        "outputId": "d100c956-4717-4dff-90e8-c36f737cb1d1"
      },
      "execution_count": 5,
      "outputs": [
        {
          "output_type": "stream",
          "name": "stdout",
          "text": [
            "Using cpu device\n",
            "NeuralNetwork(\n",
            "  (flatten): Flatten(start_dim=1, end_dim=-1)\n",
            "  (linear_relu_stack): Sequential(\n",
            "    (0): Linear(in_features=784, out_features=512, bias=True)\n",
            "    (1): ReLU()\n",
            "    (2): Linear(in_features=512, out_features=512, bias=True)\n",
            "    (3): ReLU()\n",
            "    (4): Linear(in_features=512, out_features=10, bias=True)\n",
            "  )\n",
            ")\n"
          ]
        }
      ]
    },
    {
      "cell_type": "markdown",
      "source": [
        "# 모델 매개변수 최적화하기\n",
        "## Parameter vs hyperparameter 주의\n",
        "모델을 학습하려면\n",
        "- loss function\n",
        "- optimizer   \n",
        "필요"
      ],
      "metadata": {
        "id": "NiGwuV6FgBCT"
      }
    },
    {
      "cell_type": "code",
      "source": [
        "# 분류 모델\n",
        "loss_fn = nn.CrossEntropyLoss()\n",
        "# optimizer 설정\n",
        "optimizer = torch.optim.SGD(model.parameters(), lr=1e-3)"
      ],
      "metadata": {
        "id": "lpiLdCgIgIoQ"
      },
      "execution_count": 6,
      "outputs": []
    },
    {
      "cell_type": "markdown",
      "source": [
        "각 학습 단계(training loop)에서 모델은 (배치(batch)로 제공되는) 학습 데이터셋에 대한 예측을 수행하고, 예측 오류를 역전파하여 모델의 매개변수를 조정합니다."
      ],
      "metadata": {
        "id": "dgds5OF0gsrt"
      }
    },
    {
      "cell_type": "code",
      "source": [
        "def train(dataloader, model, loss_fn, optimizer):\n",
        "    # 데이터셋의 크기\n",
        "    size = len(dataloader.dataset)\n",
        "    # dataloader가 batch별로 나눠줬던거 기억, 몇번째 batch인지 뽑아냄\n",
        "    for batch, (X, y) in enumerate(dataloader):\n",
        "        # 가능하다면 GPU 사용\n",
        "        X, y = X.to(device), y.to(device)\n",
        "\n",
        "        # 예측 오류 계산\n",
        "        pred = model(X)\n",
        "        # 모델 돌려 나온 예측값과 실제 값과의 비교를 통해 loss 값 구함\n",
        "        loss = loss_fn(pred, y)\n",
        "\n",
        "        # 역전파\n",
        "        # gradient 값을 초기화한다는 것 같은데 왜?\n",
        "        # optimizer는 계산을 누적시키기 때문에 매 epoch마다 누적된 값을 초기화하는 작업이 필요\n",
        "        optimizer.zero_grad()\n",
        "        # backpropogation의 기준이 loss 값이라는 뜻\n",
        "        # 예측 손실(prediction loss)을 역전파한다. PyTorch는 각 매개변수에 대한 손실의 변화도를 저장한다.\n",
        "        loss.backward()\n",
        "        # 매개변수 조정\n",
        "        # 변화도를 계산한 뒤에는 optimizer.step()을 호출하여 역전파 단계에서 수집된 변화도로 매개변수를 조정한다.\n",
        "        optimizer.step()\n",
        "\n",
        "        # batch가 100으로 나누어떨어질 때마다 손실함수값과 현재 전체 데이터셋 중 얼만큼 돌았는지 확인 \n",
        "        if batch % 100 == 0:\n",
        "            # loss.item()?\n",
        "            # .item()은 손실 함숫값과 같이 숫자가 하나인 텐서를 텐서가 아닌 값으로 만들어준다\n",
        "            # batch * len(X)\n",
        "            # size에서 개수 * 각 데이터의 길이이므로\n",
        "            # 결과값을 보니 길이가 100\n",
        "            loss, current = loss.item(), batch * len(X)\n",
        "            # fstring은 중괄호{ } 안에서 : 구분자를 이용한다. \n",
        "            #  중괄호 {}안에 있는 변수 뒤에 콜론(:)을 붙인 후 왼쪽 정렬 (<), 오른쪽 정렬(>), 가운데 정렬(^)의 옵션을 넣어줍니다. \n",
        "            # 그 후에 자릿수를 알려주는 숫자 를 넣어주면 정렬 옵션을 사용할 수 있습니다\n",
        "            # 링크: https://sikaleo.tistory.com/98\n",
        "            # 정렬 관련하여\n",
        "            # 링크: https://axis.tistory.com/entry/Python-f-%EB%AC%B8%EC%9E%90%EC%97%B4-%ED%8F%AC%EB%A7%A4%ED%8C%85-f-string-formatting\n",
        "            # 7f에서 7은 소수점 후 자리수일까 전체 숫자의 자릿수일까?\n",
        "            print(f\"loss: {loss:>7f}  [{current:>5d}/{size:>5d}]\")"
      ],
      "metadata": {
        "id": "GiUpZ23QgppF"
      },
      "execution_count": 7,
      "outputs": []
    },
    {
      "cell_type": "markdown",
      "source": [
        "모델이 학습하고 있는지를 확인하기 위해 테스트 데이터셋으로 모델의 성능을 확인합니다."
      ],
      "metadata": {
        "id": "vsPZCkpzrTmm"
      }
    },
    {
      "cell_type": "code",
      "source": [
        "def test(dataloader, model, loss_fn):\n",
        "    # 데이터셋의 크기\n",
        "    # 예를 들어 50000장에 해당\n",
        "    size = len(dataloader.dataset)\n",
        "    # batch의 개수 \n",
        "    # 예를 들어 CIFAR10에서 학습 이미지는 50000장이고 batch크기가 50이면 1000은 배치의 개수\n",
        "    num_batches = len(dataloader)\n",
        "    # model evaluate하나보다~하구 넘어가지 않기\n",
        "    # 드롭아웃 등과 같은 정규화 기법은 학습시에만 적용해야 한다\n",
        "    # 따라서 모델 내에서 학습 시에만 동작하는 장치들을 비활성하기 위해 model.eval()사용\n",
        "    # test할 때는 model.eval()이 필수인 것을 알 수 있죠\n",
        "    model.eval()\n",
        "    # training할 때의 loss랑 구분되게 이런식으로 변수명에 의미담는 습관 중요\n",
        "    test_loss, correct = 0, 0\n",
        "\n",
        "    # test할때 requires_grad를 비활성화\n",
        "    # model.eval()과 같은 맥락\n",
        "    with torch.no_grad():\n",
        "        # for data in dataloader\n",
        "        # X, y = data[0].to(device), data[1].to(device) 이런식으로 써도 되겠네\n",
        "        for X, y in dataloader:\n",
        "            X, y = X.to(device), y.to(device)\n",
        "            # 함수(변수) 이런식으로 쓰인 형식을 보통 새로운 변수에 할당해놓고 사용\n",
        "            # 모델에 입력값 넣어준 결과겠죠\n",
        "            # 나중에 label값이랑 비교해주겠네~\n",
        "            # loss함수값에 넣겠네 pred랑 라벨 y값\n",
        "            # 코드 보기 전에 이런생각이 떠오르도록\n",
        "            pred = model(X)\n",
        "            # loss값에다가 정해준 loss function으로 값 계산한거 넣어준다\n",
        "            test_loss += loss_fn(pred, y).item()\n",
        "            # argmax vs max?\n",
        "            # argmax(f(x)) > x, max(f(x)) > x\n",
        "            # argmax(1) column을 기준으로 최대값이 라벨값과 같다면 \n",
        "            # https://gomguard.tistory.com/145\n",
        "            # correct에 맞게 맞춘 것들의 개수를 구해야할텐데\n",
        "            # prediction의 결과와 y label값이 같아야겠지\n",
        "            # pred.argmax(dim=1)에서 dim이 생략된듯, dim=1은 column기준이라는 뜻\n",
        "            # correct = (pred.argmax(dim=1) == y) : batch size (64)만큼의 길이를 갖는 tensor. 각 batch 의 자리에 둘이 일치하면 1, 불일치하면 0을 넣어준다\n",
        "            # type(torch.float) torch의 datatype를 float로 바꿔줘, 나중에 나누기로 소수점으로 바꿔주기 위해\n",
        "            # 개수 모두 더한 후\n",
        "            # .item()을 통해 torch 타입에서 일반 타입으로 바꿔주자\n",
        "            # 1 epoch에서 (pred.argmax(1) == y)인 개수\n",
        "            correct += (pred.argmax(1) == y).type(torch.float).sum().item()\n",
        "    # batch별로 loss값 보구\n",
        "    test_loss /= num_batches\n",
        "    # 1 epoch 돌았을 때 correct 값 보니까\n",
        "    # 개수 관점\n",
        "    correct /= size\n",
        "    print(f\"Test Error: \\n Accuracy: {(100*correct):>0.1f}%, Avg loss: {test_loss:>8f} \\n\")"
      ],
      "metadata": {
        "id": "bEUb4HWNrXw3"
      },
      "execution_count": 8,
      "outputs": []
    },
    {
      "cell_type": "markdown",
      "source": [
        "학습 단계는 여러번의 반복 단계 (에폭(epochs)) 를 거쳐서 수행됩니다. 각 에폭에서는 모델은 더 나은 예측을 하기 위해 매개변수를 학습합니다. 각 에폭마다 모델의 정확도(accuracy)와 손실(loss)을 출력합니다; 에폭마다 정확도가 증가하고 손실이 감소하는 것을 보려고 합니다."
      ],
      "metadata": {
        "id": "845lPH13tZpE"
      }
    },
    {
      "cell_type": "code",
      "source": [
        "epochs = 5\n",
        "for t in range(epochs):\n",
        "    # range에서 0부터 시작하니까\n",
        "    print(f\"Epoch {t+1}\\n-------------------------------\")\n",
        "    train(train_dataloader, model, loss_fn, optimizer)\n",
        "    test(test_dataloader, model, loss_fn)\n",
        "print(\"Done!\")"
      ],
      "metadata": {
        "colab": {
          "base_uri": "https://localhost:8080/"
        },
        "id": "xVsYGOPJtaFc",
        "outputId": "2d4607f1-a07b-4bff-a86c-0c2fa5425cd6"
      },
      "execution_count": 9,
      "outputs": [
        {
          "output_type": "stream",
          "name": "stdout",
          "text": [
            "Epoch 1\n",
            "-------------------------------\n",
            "loss: 2.308857  [    0/60000]\n",
            "loss: 2.294578  [ 6400/60000]\n",
            "loss: 2.280947  [12800/60000]\n",
            "loss: 2.270946  [19200/60000]\n",
            "loss: 2.251835  [25600/60000]\n",
            "loss: 2.223742  [32000/60000]\n",
            "loss: 2.231316  [38400/60000]\n",
            "loss: 2.197093  [44800/60000]\n",
            "loss: 2.204243  [51200/60000]\n",
            "loss: 2.171241  [57600/60000]\n",
            "Test Error: \n",
            " Accuracy: 41.2%, Avg loss: 2.161626 \n",
            "\n",
            "Epoch 2\n",
            "-------------------------------\n",
            "loss: 2.172415  [    0/60000]\n",
            "loss: 2.159482  [ 6400/60000]\n",
            "loss: 2.111484  [12800/60000]\n",
            "loss: 2.127251  [19200/60000]\n",
            "loss: 2.070709  [25600/60000]\n",
            "loss: 2.016376  [32000/60000]\n",
            "loss: 2.041549  [38400/60000]\n",
            "loss: 1.963514  [44800/60000]\n",
            "loss: 1.978451  [51200/60000]\n",
            "loss: 1.916909  [57600/60000]\n",
            "Test Error: \n",
            " Accuracy: 51.5%, Avg loss: 1.901611 \n",
            "\n",
            "Epoch 3\n",
            "-------------------------------\n",
            "loss: 1.932495  [    0/60000]\n",
            "loss: 1.903095  [ 6400/60000]\n",
            "loss: 1.795744  [12800/60000]\n",
            "loss: 1.834607  [19200/60000]\n",
            "loss: 1.725111  [25600/60000]\n",
            "loss: 1.679823  [32000/60000]\n",
            "loss: 1.700509  [38400/60000]\n",
            "loss: 1.597584  [44800/60000]\n",
            "loss: 1.631313  [51200/60000]\n",
            "loss: 1.535896  [57600/60000]\n",
            "Test Error: \n",
            " Accuracy: 59.2%, Avg loss: 1.538152 \n",
            "\n",
            "Epoch 4\n",
            "-------------------------------\n",
            "loss: 1.606110  [    0/60000]\n",
            "loss: 1.569695  [ 6400/60000]\n",
            "loss: 1.423720  [12800/60000]\n",
            "loss: 1.489109  [19200/60000]\n",
            "loss: 1.372937  [25600/60000]\n",
            "loss: 1.369437  [32000/60000]\n",
            "loss: 1.381328  [38400/60000]\n",
            "loss: 1.302299  [44800/60000]\n",
            "loss: 1.342245  [51200/60000]\n",
            "loss: 1.244903  [57600/60000]\n",
            "Test Error: \n",
            " Accuracy: 62.5%, Avg loss: 1.264137 \n",
            "\n",
            "Epoch 5\n",
            "-------------------------------\n",
            "loss: 1.345368  [    0/60000]\n",
            "loss: 1.324909  [ 6400/60000]\n",
            "loss: 1.162048  [12800/60000]\n",
            "loss: 1.258396  [19200/60000]\n",
            "loss: 1.138926  [25600/60000]\n",
            "loss: 1.166124  [32000/60000]\n",
            "loss: 1.183830  [38400/60000]\n",
            "loss: 1.119194  [44800/60000]\n",
            "loss: 1.161791  [51200/60000]\n",
            "loss: 1.074935  [57600/60000]\n",
            "Test Error: \n",
            " Accuracy: 64.2%, Avg loss: 1.094178 \n",
            "\n",
            "Done!\n"
          ]
        }
      ]
    },
    {
      "cell_type": "markdown",
      "source": [
        "# 모델 저장하기\n",
        "모델을 저장하는 일반적인 방법은 (모델의 매개변수들을 포함하여) 내부 상태 사전(internal state dictionary)을 직렬화(serialize)하는 것입니다."
      ],
      "metadata": {
        "id": "k8b71Oqp7PSW"
      }
    },
    {
      "cell_type": "code",
      "source": [
        "# 모델을 학습한다는 것은 가중치를 학습하는 것이라는 것 cs231n 상기\n",
        "# 저장도 모델 코드를 저장하는 것이 아니라 학습한 가중치들을 저장\n",
        "# model.path라는 경로에\n",
        "# torch.save를 통해\n",
        "# 내부 상태 dictionary 형태로 저장\n",
        "torch.save(model.state_dict(), \"model.pth\")\n",
        "print(\"Saved PyTorch Model State to model.pth\")"
      ],
      "metadata": {
        "colab": {
          "base_uri": "https://localhost:8080/"
        },
        "id": "qt4E81kS7ToO",
        "outputId": "542e8f08-e378-4204-c08b-c1e6e7682e8c"
      },
      "execution_count": 10,
      "outputs": [
        {
          "output_type": "stream",
          "name": "stdout",
          "text": [
            "Saved PyTorch Model State to model.pth\n"
          ]
        }
      ]
    },
    {
      "cell_type": "markdown",
      "source": [
        "# 모델 불러오기\n",
        "모델을 불러오는 과정에는 모델 구조를 다시 만들고 상태 사전을 모델에 불러오는 과정이 포함됩니다."
      ],
      "metadata": {
        "id": "6DDIGXoJ7W8-"
      }
    },
    {
      "cell_type": "code",
      "source": [
        "# 모델을 불러올 때에는?\n",
        "# 학습된 모델의 가중치들을 저장해놨었는데 가중치들만 불러오면되는 것일까?\n",
        "# 불러올때에는 그 가중치들을 대입할 틀이 먼저 마련되어야겠죠?\n",
        "# matplotlib에서 그래프를 그려줄 때에도 빈 canvas 먼저 생성한다\n",
        "# 뭐든 틀을 먼저 마련해놔야하는데 이 경우 model instance를 생성\n",
        "model = NeuralNetwork()\n",
        "# 모델 parameter 저장해놓은 model.pth경로에서부터 내부 상태 dictionary를 load\n",
        "model.load_state_dict(torch.load(\"model.pth\"))"
      ],
      "metadata": {
        "colab": {
          "base_uri": "https://localhost:8080/"
        },
        "id": "udtcg_Jo7ZRw",
        "outputId": "91b532bf-2b90-4a1d-e7cb-2b29b56f416e"
      },
      "execution_count": 11,
      "outputs": [
        {
          "output_type": "execute_result",
          "data": {
            "text/plain": [
              "<All keys matched successfully>"
            ]
          },
          "metadata": {},
          "execution_count": 11
        }
      ]
    },
    {
      "cell_type": "markdown",
      "source": [
        "이제 이 모델을 사용해서 예측을 할 수 있습니다."
      ],
      "metadata": {
        "id": "MPXXoqfK7fXY"
      }
    },
    {
      "cell_type": "code",
      "source": [
        "classes = [\n",
        "    \"T-shirt/top\",\n",
        "    \"Trouser\",\n",
        "    \"Pullover\",\n",
        "    \"Dress\",\n",
        "    \"Coat\",\n",
        "    \"Sandal\",\n",
        "    \"Shirt\",\n",
        "    \"Sneaker\",\n",
        "    \"Bag\",\n",
        "    \"Ankle boot\",\n",
        "]\n",
        "# 사전에 train된 파라미터 불러와서 testing할 때 쓰는거니까\n",
        "# eval()을 통해 normalization이런 기능 못쓰게 하는거 여기서 그대로\n",
        "model.eval()\n",
        "# test_data의 첫번째 데이터의 x는 사진, 1은 target label\n",
        "x, y = test_data[0][0], test_data[0][1]\n",
        "# testing할 때이므로 이것도 마찬가지\n",
        "with torch.no_grad():\n",
        "    pred = model(x)\n",
        "    # 모델 통과한 결과와 ground truth 뽑아와봐\n",
        "    # 아까는 argmax(1)로 column 기준이었는데 classes = [t,tr,p,..]이런식으로 하나의 행으로 이루어져있으므로\n",
        "    # 행을 기준으로 최대값의 위치가 index로 들어간다\n",
        "    # class[최대값의 index]니까 predict한 값자체가 나오겠지?\n",
        "    # 잘 뽑아줬네\n",
        "    predicted, actual = classes[pred[0].argmax(0)], classes[y]\n",
        "    print(f'Predicted: \"{predicted}\", Actual: \"{actual}\"')"
      ],
      "metadata": {
        "colab": {
          "base_uri": "https://localhost:8080/"
        },
        "id": "lo5_szaI7cCr",
        "outputId": "5d27b044-fea5-4669-cc4a-f7c8b9f15372"
      },
      "execution_count": 12,
      "outputs": [
        {
          "output_type": "stream",
          "name": "stdout",
          "text": [
            "Predicted: \"Ankle boot\", Actual: \"Ankle boot\"\n"
          ]
        }
      ]
    },
    {
      "cell_type": "code",
      "source": [
        ""
      ],
      "metadata": {
        "id": "0rb8xKAL7hNo"
      },
      "execution_count": null,
      "outputs": []
    }
  ]
}